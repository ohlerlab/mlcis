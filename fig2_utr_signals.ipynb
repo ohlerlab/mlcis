{
 "cells": [
  {
   "cell_type": "code",
   "execution_count": 2,
   "metadata": {},
   "outputs": [],
   "source": [
    "#imports\n",
    "\n",
    "import pandas as pd\n",
    "import numpy as np\n",
    "import matplotlib.pyplot as plt\n",
    "import seaborn as sns\n",
    "import tensorflow as tf\n",
    "import random\n",
    "import keras\n",
    "\n",
    "import integrated_gradients as ig\n",
    "import my_utils\n",
    "from metaplot import Metaplot, one_hot_encode\n",
    "\n",
    "def plot_meta(data, model, subset=None):\n",
    "\n",
    "    if subset is None:\n",
    "        print(len(data))\n",
    "        data_seq = one_hot_encode(data, seq_len=50)\n",
    "        data_ig = ig.integrated_gradients(model, data_seq)\n",
    "        Metaplot(data_ig, colorbar = False)\n",
    "    \n",
    "    elif subset == 'lowest_ten':\n",
    "        data_lowest_ten = data[data['pred'] <= data['pred'].quantile(0.1)]\n",
    "        print(len(data_lowest_ten))\n",
    "        lowest_ten_seq = one_hot_encode(data_lowest_ten, seq_len=50)\n",
    "        lowest_ten_ig = ig.integrated_gradients(model, lowest_ten_seq)\n",
    "        Metaplot(lowest_ten_ig, colorbar = False)\n",
    "\n",
    "    elif subset == 'highest_ten':\n",
    "        data_highest_ten = data[data['pred'] >= data['pred'].quantile(0.9)]\n",
    "        print(len(data_highest_ten))\n",
    "        highest_ten_seq = one_hot_encode(data_highest_ten, seq_len=50)\n",
    "        highest_ten_ig = ig.integrated_gradients(model, highest_ten_seq)\n",
    "        Metaplot(highest_ten_ig, colorbar = False)\n",
    "        \n",
    "    else:\n",
    "        raise ValueError()"
   ]
  },
  {
   "cell_type": "code",
   "execution_count": 32,
   "metadata": {},
   "outputs": [
    {
     "name": "stderr",
     "output_type": "stream",
     "text": [
      "/var/folders/6b/4m6tvsws1rvb767d463fsk7r0000gn/T/ipykernel_27650/2293989196.py:38: UserWarning: Boolean Series key will be reindexed to match DataFrame index.\n",
      "  amb_human = test_human[(test_human['orf_number'] + test_random['aug_number']) >= 2]\n"
     ]
    }
   ],
   "source": [
    "#import data\n",
    "test_random = pd.read_csv('/Users/frederickkorbel/Documents/projects/paper/data/MRL_pred.csv')\n",
    "test_human = pd.read_csv('/Users/frederickkorbel/Documents/projects/paper/data/hMRL_human_50_test_pred.csv')\n",
    "\n",
    "\n",
    "#import models\n",
    "mrl_model = keras.models.load_model('/Users/frederickkorbel/Documents/projects/paper/data/models/main_MRL_model.hdf5')\n",
    "hmrl_model = keras.models.load_model('/Users/frederickkorbel/Documents/projects/paper/data/models/human_MRL_model.hdf5')\n",
    "\n",
    "#remove FP/FN\n",
    "test_random = test_random[(test_random['pred'] - test_random['rl']) <= 1.0] #FP\n",
    "test_random = test_random[(test_random['rl'] - test_random['pred']) <= 2.0] #FN\n",
    "test_random = my_utils.analyze(test_random)\n",
    "\n",
    "test_human = test_human[(test_human['pred'] - test_human['rl']) <= 1.0] #FP\n",
    "test_human = test_human[(test_human['rl'] - test_human['pred']) <= 2.0] #FN\n",
    "test_human = my_utils.analyze(test_human)\n",
    "\n",
    "#separate categories\n",
    "\n",
    "# no uAUG (=control)\n",
    "no_uaug_random = test_random[test_random['utr'].apply(lambda x: 'ATG' not in x)]\n",
    "no_uaug_human = test_human[test_human['utr'].apply(lambda x: 'ATG' not in x)]\n",
    "# IF uORFs\n",
    "if_uorf_random = test_random[(test_random['aug_number'] == 1) & (test_random['orfs_inframe'].map(lambda x: x[0]) == 1)]\n",
    "if_uorf_human = test_human[(test_human['aug_number'] == 1) & (test_human['orfs_inframe'].map(lambda x: x[0]) == 1)]\n",
    "# OOF uORFs\n",
    "oof_uorf_random = test_random[(test_random['orf_number'] == 1) & (test_random['aug_number'] == 1) & (test_random['orfs_inframe'].map(lambda x: x[0]) == 0)]\n",
    "oof_uorf_human = test_human[(test_human['orf_number'] == 1) & (test_human['aug_number'] == 1) & (test_human['orfs_inframe'].map(lambda x: x[0]) == 0)]\n",
    "# IF uAUG (N-terminal extension)\n",
    "if_uaug_random = test_random[(test_random['orf_number'] == 0) & (test_random['aug_number'] == 1) & (test_random['aug_inframe'] == 1)]\n",
    "if_uaug_human = test_human[(test_human['orf_number'] == 0) & (test_human['aug_number'] == 1) & (test_human['aug_inframe'] == 1)]\n",
    "# OOF uAUG (overlapping uORF)\n",
    "oof_uaug_random = test_random[(test_random['orf_number'] == 0) & (test_random['aug_number'] == 1) & (test_random['aug_inframe'] == 0)]\n",
    "oof_uaug_human = test_human[(test_human['orf_number'] == 0) & (test_human['aug_number'] == 1) & (test_human['aug_inframe'] == 0)]\n",
    "#ambiguous (multiple and/or mixed uAUGs/uORFs)\n",
    "amb_random = test_random[(test_random['orf_number'] + test_random['aug_number']) >= 2]\n",
    "amb_human = test_human[(test_human['orf_number'] + test_random['aug_number']) >= 2]\n"
   ]
  },
  {
   "cell_type": "markdown",
   "metadata": {},
   "source": [
    "<font color=skyblue size=30> Meta-Attribution of 5'UTR Signals (Random) </font>"
   ]
  },
  {
   "cell_type": "markdown",
   "metadata": {},
   "source": [
    "<font color=skyblue size=5> No uAUG = control </font>"
   ]
  },
  {
   "cell_type": "code",
   "execution_count": 35,
   "metadata": {},
   "outputs": [
    {
     "name": "stdout",
     "output_type": "stream",
     "text": [
      "5977\n"
     ]
    },
    {
     "data": {
      "image/png": "[encoded data removed]",
      "text/plain": [
       "<Figure size 1440x720 with 1 Axes>"
      ]
     },
     "metadata": {
      "needs_background": "light"
     },
     "output_type": "display_data"
    },
    {
     "name": "stdout",
     "output_type": "stream",
     "text": [
      "598\n"
     ]
    },
    {
     "data": {
      "image/png": "[encoded data removed]",
      "text/plain": [
       "<Figure size 1440x720 with 1 Axes>"
      ]
     },
     "metadata": {
      "needs_background": "light"
     },
     "output_type": "display_data"
    },
    {
     "name": "stdout",
     "output_type": "stream",
     "text": [
      "598\n"
     ]
    },
    {
     "data": {
      "image/png": "[encoded data removed]",
      "text/plain": [
       "<Figure size 1440x720 with 1 Axes>"
      ]
     },
     "metadata": {
      "needs_background": "light"
     },
     "output_type": "display_data"
    }
   ],
   "source": [
    "plot_meta(no_uaug_random, mrl_model)\n",
    "plot_meta(no_uaug_random, mrl_model, subset='lowest_ten')\n",
    "plot_meta(no_uaug_random, mrl_model, subset='highest_ten')"
   ]
  },
  {
   "cell_type": "markdown",
   "metadata": {},
   "source": [
    "<font color=skyblue size=5> One non-overlapping uORF IF </font>"
   ]
  },
  {
   "cell_type": "code",
   "execution_count": 36,
   "metadata": {},
   "outputs": [
    {
     "name": "stdout",
     "output_type": "stream",
     "text": [
      "694\n"
     ]
    },
    {
     "data": {
      "image/png": "[encoded data removed]",
      "text/plain": [
       "<Figure size 1440x720 with 1 Axes>"
      ]
     },
     "metadata": {
      "needs_background": "light"
     },
     "output_type": "display_data"
    },
    {
     "name": "stdout",
     "output_type": "stream",
     "text": [
      "70\n"
     ]
    },
    {
     "data": {
      "image/png": "[encoded data removed]",
      "text/plain": [
       "<Figure size 1440x720 with 1 Axes>"
      ]
     },
     "metadata": {
      "needs_background": "light"
     },
     "output_type": "display_data"
    },
    {
     "name": "stdout",
     "output_type": "stream",
     "text": [
      "70\n"
     ]
    },
    {
     "data": {
      "image/png": "[encoded data removed]",
      "text/plain": [
       "<Figure size 1440x720 with 1 Axes>"
      ]
     },
     "metadata": {
      "needs_background": "light"
     },
     "output_type": "display_data"
    }
   ],
   "source": [
    "plot_meta(if_uorf_random, mrl_model)\n",
    "plot_meta(if_uorf_random, mrl_model, subset='lowest_ten')\n",
    "plot_meta(if_uorf_random, mrl_model, subset='highest_ten')"
   ]
  },
  {
   "cell_type": "markdown",
   "metadata": {},
   "source": [
    "<font color=skyblue size=5> One non-overlapping uORF OOF </font>"
   ]
  },
  {
   "cell_type": "code",
   "execution_count": 37,
   "metadata": {},
   "outputs": [
    {
     "name": "stdout",
     "output_type": "stream",
     "text": [
      "1315\n"
     ]
    },
    {
     "data": {
      "image/png": "[encoded data removed]",
      "text/plain": [
       "<Figure size 1440x720 with 1 Axes>"
      ]
     },
     "metadata": {
      "needs_background": "light"
     },
     "output_type": "display_data"
    },
    {
     "name": "stdout",
     "output_type": "stream",
     "text": [
      "132\n"
     ]
    },
    {
     "data": {
      "image/png": "[encoded data removed]",
      "text/plain": [
       "<Figure size 1440x720 with 1 Axes>"
      ]
     },
     "metadata": {
      "needs_background": "light"
     },
     "output_type": "display_data"
    },
    {
     "name": "stdout",
     "output_type": "stream",
     "text": [
      "132\n"
     ]
    },
    {
     "data": {
      "image/png": "[encoded data removed]",
      "text/plain": [
       "<Figure size 1440x720 with 1 Axes>"
      ]
     },
     "metadata": {
      "needs_background": "light"
     },
     "output_type": "display_data"
    }
   ],
   "source": [
    "plot_meta(oof_uorf_random, mrl_model)\n",
    "plot_meta(oof_uorf_random, mrl_model, subset='lowest_ten')\n",
    "plot_meta(oof_uorf_random, mrl_model, subset='highest_ten')"
   ]
  },
  {
   "cell_type": "markdown",
   "metadata": {},
   "source": [
    "<font color=skyblue size=5> IF uAUG </font>"
   ]
  },
  {
   "cell_type": "code",
   "execution_count": 38,
   "metadata": {},
   "outputs": [
    {
     "name": "stdout",
     "output_type": "stream",
     "text": [
      "1420\n"
     ]
    },
    {
     "data": {
      "image/png": "[encoded data removed]",
      "text/plain": [
       "<Figure size 1440x720 with 1 Axes>"
      ]
     },
     "metadata": {
      "needs_background": "light"
     },
     "output_type": "display_data"
    },
    {
     "name": "stdout",
     "output_type": "stream",
     "text": [
      "142\n"
     ]
    },
    {
     "data": {
      "image/png": "[encoded data removed]",
      "text/plain": [
       "<Figure size 1440x720 with 1 Axes>"
      ]
     },
     "metadata": {
      "needs_background": "light"
     },
     "output_type": "display_data"
    },
    {
     "name": "stdout",
     "output_type": "stream",
     "text": [
      "142\n"
     ]
    },
    {
     "data": {
      "image/png": "[encoded data removed]",
      "text/plain": [
       "<Figure size 1440x720 with 1 Axes>"
      ]
     },
     "metadata": {
      "needs_background": "light"
     },
     "output_type": "display_data"
    }
   ],
   "source": [
    "plot_meta(if_uaug_random, mrl_model)\n",
    "plot_meta(if_uaug_random, mrl_model, subset='lowest_ten')\n",
    "plot_meta(if_uaug_random, mrl_model, subset='highest_ten')"
   ]
  },
  {
   "cell_type": "markdown",
   "metadata": {},
   "source": [
    "<font color=skyblue size=5> OOF uAUG </font>"
   ]
  },
  {
   "cell_type": "code",
   "execution_count": 39,
   "metadata": {},
   "outputs": [
    {
     "name": "stdout",
     "output_type": "stream",
     "text": [
      "5216\n"
     ]
    },
    {
     "data": {
      "image/png": "[encoded data removed]",
      "text/plain": [
       "<Figure size 1440x720 with 1 Axes>"
      ]
     },
     "metadata": {
      "needs_background": "light"
     },
     "output_type": "display_data"
    },
    {
     "name": "stdout",
     "output_type": "stream",
     "text": [
      "522\n"
     ]
    },
    {
     "data": {
      "image/png": "[encoded data removed]",
      "text/plain": [
       "<Figure size 1440x720 with 1 Axes>"
      ]
     },
     "metadata": {
      "needs_background": "light"
     },
     "output_type": "display_data"
    },
    {
     "name": "stdout",
     "output_type": "stream",
     "text": [
      "522\n"
     ]
    },
    {
     "data": {
      "image/png": "[encoded data removed]",
      "text/plain": [
       "<Figure size 1440x720 with 1 Axes>"
      ]
     },
     "metadata": {
      "needs_background": "light"
     },
     "output_type": "display_data"
    }
   ],
   "source": [
    "plot_meta(oof_uaug_random, mrl_model)\n",
    "plot_meta(oof_uaug_random, mrl_model, subset='lowest_ten')\n",
    "plot_meta(oof_uaug_random, mrl_model, subset='highest_ten')"
   ]
  },
  {
   "cell_type": "markdown",
   "metadata": {},
   "source": [
    "<font color=skyblue size=5> Ambiguous </font>"
   ]
  },
  {
   "cell_type": "code",
   "execution_count": 40,
   "metadata": {},
   "outputs": [
    {
     "name": "stdout",
     "output_type": "stream",
     "text": [
      "6983\n"
     ]
    },
    {
     "data": {
      "image/png": "[encoded data removed]",
      "text/plain": [
       "<Figure size 1440x720 with 1 Axes>"
      ]
     },
     "metadata": {
      "needs_background": "light"
     },
     "output_type": "display_data"
    },
    {
     "name": "stdout",
     "output_type": "stream",
     "text": [
      "699\n"
     ]
    },
    {
     "data": {
      "image/png": "[encoded data removed]",
      "text/plain": [
       "<Figure size 1440x720 with 1 Axes>"
      ]
     },
     "metadata": {
      "needs_background": "light"
     },
     "output_type": "display_data"
    },
    {
     "name": "stdout",
     "output_type": "stream",
     "text": [
      "699\n"
     ]
    },
    {
     "data": {
      "image/png": "[encoded data removed]",
      "text/plain": [
       "<Figure size 1440x720 with 1 Axes>"
      ]
     },
     "metadata": {
      "needs_background": "light"
     },
     "output_type": "display_data"
    }
   ],
   "source": [
    "plot_meta(amb_random, mrl_model)\n",
    "plot_meta(amb_random, mrl_model, subset='lowest_ten')\n",
    "plot_meta(amb_random, mrl_model, subset='highest_ten')"
   ]
  },
  {
   "cell_type": "markdown",
   "metadata": {},
   "source": [
    "<font color=skyblue size=30> Meta-Attribution of 5'UTR Signals (Human) </font>"
   ]
  },
  {
   "cell_type": "markdown",
   "metadata": {},
   "source": [
    "<font color=skyblue size=5> No uAUG = control </font>"
   ]
  },
  {
   "cell_type": "code",
   "execution_count": 41,
   "metadata": {},
   "outputs": [
    {
     "name": "stdout",
     "output_type": "stream",
     "text": [
      "3495\n"
     ]
    }
   ],
   "source": [
    "plot_meta(no_uaug_human, hmrl_model)\n",
    "plot_meta(no_uaug_human, hmrl_model, subset='lowest_ten')\n",
    "plot_meta(no_uaug_human, hmrl_model, subset='highest_ten')"
   ]
  },
  {
   "cell_type": "markdown",
   "metadata": {},
   "source": [
    "<font color=skyblue size=5> One non-overlapping uORF IF </font>"
   ]
  },
  {
   "cell_type": "code",
   "execution_count": null,
   "metadata": {},
   "outputs": [],
   "source": [
    "plot_meta(if_uorf_human, hmrl_model)\n",
    "plot_meta(if_uorf_human, hmrl_model, subset='lowest_ten')\n",
    "plot_meta(if_uorf_human, hmrl_model, subset='highest_ten')"
   ]
  },
  {
   "cell_type": "markdown",
   "metadata": {},
   "source": [
    "<font color=skyblue size=5> One non-overlapping uORF OOF </font>"
   ]
  },
  {
   "cell_type": "code",
   "execution_count": null,
   "metadata": {},
   "outputs": [],
   "source": [
    "plot_meta(oof_uorf_human, hmrl_model)\n",
    "plot_meta(oof_uorf_human, hmrl_model, subset='lowest_ten')\n",
    "plot_meta(oof_uorf_human, hmrl_model, subset='highest_ten')"
   ]
  },
  {
   "cell_type": "markdown",
   "metadata": {},
   "source": [
    "<font color=skyblue size=5> uAUG IF </font>"
   ]
  },
  {
   "cell_type": "code",
   "execution_count": null,
   "metadata": {},
   "outputs": [],
   "source": [
    "plot_meta(if_uaug_human, hmrl_model)\n",
    "plot_meta(if_uaug_human, hmrl_model, subset='lowest_ten')\n",
    "plot_meta(if_uaug_human, hmrl_model, subset='highest_ten')"
   ]
  },
  {
   "cell_type": "markdown",
   "metadata": {},
   "source": [
    "<font color=skyblue size=5> uAUG OOF </font>"
   ]
  },
  {
   "cell_type": "code",
   "execution_count": null,
   "metadata": {},
   "outputs": [],
   "source": [
    "plot_meta(oof_uaug_human, hmrl_model)\n",
    "plot_meta(oof_uaug_human, hmrl_model, subset='lowest_ten')\n",
    "plot_meta(oof_uaug_human, hmrl_model, subset='highest_ten')"
   ]
  },
  {
   "cell_type": "markdown",
   "metadata": {},
   "source": [
    "<font color=skyblue size=5> Ambiguous </font>"
   ]
  },
  {
   "cell_type": "code",
   "execution_count": null,
   "metadata": {},
   "outputs": [],
   "source": [
    "plot_meta(amb_human, hmrl_model)\n",
    "plot_meta(amb_human, hmrl_model, subset='lowest_ten')\n",
    "plot_meta(amb_human, hmrl_model, subset='highest_ten')"
   ]
  }
 ],
 "metadata": {
  "interpreter": {
   "hash": "57bfa4aa8d2cf613342596a6d988858e43b151c27750d9d6d65cd918aed0d614"
  },
  "kernelspec": {
   "display_name": "Python 3.9.10 ('mlcis')",
   "language": "python",
   "name": "python3"
  },
  "language_info": {
   "codemirror_mode": {
    "name": "ipython",
    "version": 3
   },
   "file_extension": ".py",
   "mimetype": "text/x-python",
   "name": "python",
   "nbconvert_exporter": "python",
   "pygments_lexer": "ipython3",
   "version": "3.9.10"
  },
  "orig_nbformat": 4
 },
 "nbformat": 4,
 "nbformat_minor": 2
}
