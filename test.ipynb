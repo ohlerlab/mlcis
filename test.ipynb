{
 "cells": [
  {
   "cell_type": "code",
   "execution_count": 1,
   "metadata": {},
   "outputs": [
    {
     "name": "stdout",
     "output_type": "stream",
     "text": [
      "unknown 2.7.0\n"
     ]
    }
   ],
   "source": [
    "import pandas as pd\n",
    "import numpy as np\n",
    "import matplotlib.pyplot as plt\n",
    "import seaborn as sns\n",
    "import integrated_gradients as ig\n",
    "import tensorflow as tf\n",
    "print(tf.version.GIT_VERSION, tf.version.VERSION)\n",
    "\n",
    "\n",
    "def one_hot_encode(df, col='utr', seq_len=50):\n",
    "    nuc_d = {'a':[1,0,0,0],'c':[0,1,0,0],'g':[0,0,1,0],'t':[0,0,0,1], 'n':[0,0,0,0]}\n",
    "    vectors=np.empty([len(df),seq_len,4])\n",
    "    \n",
    "    for i,seq in enumerate(df[col].str[:seq_len]): \n",
    "        seq = seq.lower()\n",
    "        a = np.array([nuc_d[x] for x in seq])\n",
    "        vectors[i] = a\n",
    "    return vectors"
   ]
  },
  {
   "cell_type": "code",
   "execution_count": 2,
   "metadata": {},
   "outputs": [
    {
     "name": "stderr",
     "output_type": "stream",
     "text": [
      "2022-02-15 13:28:31.217528: I tensorflow/core/platform/cpu_feature_guard.cc:151] This TensorFlow binary is optimized with oneAPI Deep Neural Network Library (oneDNN) to use the following CPU instructions in performance-critical operations:  SSE4.1 SSE4.2 AVX AVX2 FMA\n",
      "To enable them in other operations, rebuild TensorFlow with the appropriate compiler flags.\n"
     ]
    }
   ],
   "source": [
    "data = pd.read_csv('/Users/frederickkorbel/Documents/projects/paper/data/MRL_pred.csv', index_col = False)\n",
    "mrl_model = tf.keras.models.load_model('/Users/frederickkorbel/Documents/projects/paper/data/seelig/Supplementary Code/modeling/saved_models/main_MRL_model.hdf5')\n",
    "\n",
    "seq = one_hot_encode(data, seq_len = 50)\n",
    "ind = data.index\n",
    "dummy = seq[1]\n",
    "\n",
    "#igres = ig.integrated_gradients(mrl_model)"
   ]
  },
  {
   "cell_type": "code",
   "execution_count": 3,
   "metadata": {},
   "outputs": [
    {
     "data": {
      "text/plain": [
       "(20000, 50, 4)"
      ]
     },
     "execution_count": 3,
     "metadata": {},
     "output_type": "execute_result"
    }
   ],
   "source": [
    "seq.shape"
   ]
  },
  {
   "cell_type": "code",
   "execution_count": 4,
   "metadata": {},
   "outputs": [],
   "source": [
    "steps = 50\n",
    "baseline = np.zeros(seq[-1:].shape)\n",
    "\n",
    "linear_path = np.zeros(tuple([steps] + [t for t in seq[-1:].shape]))\n",
    "for i in range(steps):\n",
    "    linear_path[i] = baseline + (seq[-1:] - baseline) * (i*1.0/steps) # baseline + delta * alpha\n",
    "\n",
    "linear_path = linear_path.squeeze()\n",
    "linear_path = tf.convert_to_tensor(linear_path, dtype = tf.float32)\n",
    "\n",
    "\n",
    "#compute gradients\n",
    "with tf.GradientTape() as tape:\n",
    "    tape.watch(linear_path)\n",
    "    values = mrl_model(linear_path) #call the model to obtain predictions for each position\n",
    "    dF_dx = tape.gradient(values, linear_path)\n",
    "\n",
    "#integral approximation\n",
    "grads = (dF_dx[:-1] + dF_dx[1:]) / tf.constant(2.0)\n",
    "integrated_grads = tf.math.reduce_mean(grads, axis=0)\n",
    "assert seq[-1:].squeeze().shape == integrated_grads.shape\n",
    "\n",
    "#scale integrated gradients with respect to input\n",
    "integrated_gradients = (seq[-1:] - baseline) * integrated_grads"
   ]
  },
  {
   "cell_type": "code",
   "execution_count": 10,
   "metadata": {},
   "outputs": [
    {
     "data": {
      "text/plain": [
       "array([[[0., 0., 1., 0.],\n",
       "        [0., 0., 0., 1.],\n",
       "        [0., 1., 0., 0.],\n",
       "        [1., 0., 0., 0.],\n",
       "        [1., 0., 0., 0.],\n",
       "        [1., 0., 0., 0.],\n",
       "        [0., 1., 0., 0.],\n",
       "        [1., 0., 0., 0.],\n",
       "        [0., 1., 0., 0.],\n",
       "        [0., 0., 1., 0.],\n",
       "        [0., 0., 1., 0.],\n",
       "        [0., 0., 1., 0.],\n",
       "        [0., 1., 0., 0.],\n",
       "        [0., 0., 0., 1.],\n",
       "        [0., 0., 1., 0.],\n",
       "        [0., 0., 1., 0.],\n",
       "        [0., 0., 1., 0.],\n",
       "        [0., 0., 1., 0.],\n",
       "        [1., 0., 0., 0.],\n",
       "        [0., 1., 0., 0.],\n",
       "        [1., 0., 0., 0.],\n",
       "        [0., 0., 1., 0.],\n",
       "        [0., 1., 0., 0.],\n",
       "        [0., 1., 0., 0.],\n",
       "        [1., 0., 0., 0.],\n",
       "        [0., 0., 1., 0.],\n",
       "        [1., 0., 0., 0.],\n",
       "        [0., 0., 0., 1.],\n",
       "        [0., 0., 1., 0.],\n",
       "        [0., 0., 0., 1.],\n",
       "        [0., 0., 1., 0.],\n",
       "        [0., 0., 1., 0.],\n",
       "        [0., 1., 0., 0.],\n",
       "        [1., 0., 0., 0.],\n",
       "        [0., 0., 0., 1.],\n",
       "        [0., 0., 0., 1.],\n",
       "        [0., 0., 1., 0.],\n",
       "        [0., 0., 1., 0.],\n",
       "        [1., 0., 0., 0.],\n",
       "        [0., 0., 1., 0.],\n",
       "        [0., 1., 0., 0.],\n",
       "        [0., 0., 1., 0.],\n",
       "        [1., 0., 0., 0.],\n",
       "        [1., 0., 0., 0.],\n",
       "        [0., 1., 0., 0.],\n",
       "        [0., 0., 0., 1.],\n",
       "        [1., 0., 0., 0.],\n",
       "        [0., 0., 0., 1.],\n",
       "        [1., 0., 0., 0.],\n",
       "        [1., 0., 0., 0.]]])"
      ]
     },
     "execution_count": 10,
     "metadata": {},
     "output_type": "execute_result"
    }
   ],
   "source": [
    "seq[-1:]"
   ]
  },
  {
   "cell_type": "code",
   "execution_count": 6,
   "metadata": {},
   "outputs": [
    {
     "data": {
      "text/plain": [
       "TensorShape([1, 50, 4])"
      ]
     },
     "execution_count": 6,
     "metadata": {},
     "output_type": "execute_result"
    }
   ],
   "source": [
    "integrated_gradients.shape"
   ]
  },
  {
   "cell_type": "code",
   "execution_count": 7,
   "metadata": {},
   "outputs": [],
   "source": [
    "ex = ig.integrated_gradients(mrl_model, seq[-1:])"
   ]
  },
  {
   "cell_type": "code",
   "execution_count": null,
   "metadata": {},
   "outputs": [],
   "source": [
    "array = np.array([1,2,3])\n",
    "tensor = tf.convert_to_tensor(array)\n",
    "tensor.dtype"
   ]
  },
  {
   "cell_type": "code",
   "execution_count": 12,
   "metadata": {},
   "outputs": [
    {
     "data": {
      "text/plain": [
       "<tf.Tensor: shape=(1, 50, 4), dtype=float32, numpy=\n",
       "array([[[-0.        , -0.        ,  0.00725279,  0.        ],\n",
       "        [-0.        , -0.        , -0.        ,  0.01963388],\n",
       "        [ 0.        , -0.01941998,  0.        ,  0.        ],\n",
       "        [ 0.00691829, -0.        ,  0.        ,  0.        ],\n",
       "        [ 0.00537928,  0.        , -0.        ,  0.        ],\n",
       "        [ 0.02571478, -0.        , -0.        ,  0.        ],\n",
       "        [ 0.        , -0.00072909, -0.        ,  0.        ],\n",
       "        [-0.00644819,  0.        ,  0.        ,  0.        ],\n",
       "        [ 0.        ,  0.0075308 ,  0.        ,  0.        ],\n",
       "        [ 0.        ,  0.        , -0.08172376,  0.        ],\n",
       "        [ 0.        ,  0.        , -0.04164022,  0.        ],\n",
       "        [ 0.        , -0.        , -0.05832902,  0.        ],\n",
       "        [ 0.        , -0.00085586, -0.        ,  0.        ],\n",
       "        [ 0.        , -0.        ,  0.        ,  0.02106302],\n",
       "        [ 0.        ,  0.        , -0.04373043,  0.        ],\n",
       "        [ 0.        ,  0.        , -0.06888518,  0.        ],\n",
       "        [ 0.        , -0.        , -0.02726931,  0.        ],\n",
       "        [ 0.        , -0.        , -0.02733165,  0.        ],\n",
       "        [ 0.07057267, -0.        , -0.        ,  0.        ],\n",
       "        [ 0.        , -0.0083925 ,  0.        ,  0.        ],\n",
       "        [ 0.03758384,  0.        , -0.        ,  0.        ],\n",
       "        [ 0.        ,  0.        ,  0.02588857, -0.        ],\n",
       "        [ 0.        , -0.02792056,  0.        ,  0.        ],\n",
       "        [-0.        ,  0.07650062,  0.        ,  0.        ],\n",
       "        [ 0.02075029, -0.        ,  0.        ,  0.        ],\n",
       "        [ 0.        ,  0.        ,  0.01845564,  0.        ],\n",
       "        [-0.15026829,  0.        ,  0.        ,  0.        ],\n",
       "        [ 0.        ,  0.        ,  0.        , -0.27728453],\n",
       "        [ 0.        ,  0.        , -0.33200425,  0.        ],\n",
       "        [ 0.        ,  0.        , -0.        ,  0.01185064],\n",
       "        [-0.        ,  0.        , -0.02222202,  0.        ],\n",
       "        [-0.        ,  0.        , -0.09794471,  0.        ],\n",
       "        [ 0.        , -0.14359201, -0.        ,  0.        ],\n",
       "        [ 0.04423652, -0.        ,  0.        ,  0.        ],\n",
       "        [ 0.        , -0.        , -0.        ,  0.01736369],\n",
       "        [ 0.        ,  0.        , -0.        ,  0.09479964],\n",
       "        [-0.        ,  0.        , -0.01475918,  0.        ],\n",
       "        [ 0.        ,  0.        , -0.05219874,  0.        ],\n",
       "        [ 0.05534616, -0.        , -0.        ,  0.        ],\n",
       "        [ 0.        ,  0.        , -0.02569873,  0.        ],\n",
       "        [ 0.        , -0.01410799, -0.        ,  0.        ],\n",
       "        [-0.        , -0.        , -0.03616386,  0.        ],\n",
       "        [ 0.06515159, -0.        , -0.        , -0.        ],\n",
       "        [ 0.0404437 , -0.        , -0.        , -0.        ],\n",
       "        [ 0.        , -0.00431157, -0.        ,  0.        ],\n",
       "        [ 0.        ,  0.        ,  0.        ,  0.10082103],\n",
       "        [ 0.0412937 ,  0.        ,  0.        ,  0.        ],\n",
       "        [ 0.        ,  0.        ,  0.        , -0.28787017],\n",
       "        [-0.05138965,  0.        , -0.        ,  0.        ],\n",
       "        [-0.1910365 ,  0.        , -0.        ,  0.        ]]],\n",
       "      dtype=float32)>"
      ]
     },
     "execution_count": 12,
     "metadata": {},
     "output_type": "execute_result"
    }
   ],
   "source": [
    "ex"
   ]
  },
  {
   "cell_type": "code",
   "execution_count": null,
   "metadata": {},
   "outputs": [],
   "source": []
  }
 ],
 "metadata": {
  "interpreter": {
   "hash": "f14d4b9f2f89363e26dfef804e2252d80ab955cd968a920aac5ad0734d3956b1"
  },
  "kernelspec": {
   "display_name": "Python 3",
   "language": "python",
   "name": "python3"
  },
  "language_info": {
   "codemirror_mode": {
    "name": "ipython",
    "version": 3
   },
   "file_extension": ".py",
   "mimetype": "text/x-python",
   "name": "python",
   "nbconvert_exporter": "python",
   "pygments_lexer": "ipython3",
   "version": "3.9.10"
  }
 },
 "nbformat": 4,
 "nbformat_minor": 2
}
