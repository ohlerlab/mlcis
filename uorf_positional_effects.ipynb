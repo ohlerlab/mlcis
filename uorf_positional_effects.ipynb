{
 "cells": [
  {
   "cell_type": "code",
   "execution_count": 2,
   "metadata": {},
   "outputs": [],
   "source": [
    "#imports\n",
    "\n",
    "import pandas as pd\n",
    "import numpy as np\n",
    "import matplotlib.pyplot as plt\n",
    "import seaborn as sns\n",
    "import tensorflow as tf\n",
    "\n",
    "import integrated_gradients as ig\n",
    "import my_utils\n",
    "from metaplot import Metaplot, one_hot_encode\n"
   ]
  },
  {
   "cell_type": "code",
   "execution_count": 3,
   "metadata": {},
   "outputs": [
    {
     "name": "stdout",
     "output_type": "stream",
     "text": [
      "Initital dataset size: 20000\n"
     ]
    },
    {
     "name": "stderr",
     "output_type": "stream",
     "text": [
      "2022-02-18 13:12:46.943390: I tensorflow/core/platform/cpu_feature_guard.cc:142] This TensorFlow binary is optimized with oneAPI Deep Neural Network Library (oneDNN) to use the following CPU instructions in performance-critical operations:  SSE4.1 SSE4.2 AVX AVX2 FMA\n",
      "To enable them in other operations, rebuild TensorFlow with the appropriate compiler flags.\n"
     ]
    },
    {
     "name": "stdout",
     "output_type": "stream",
     "text": [
      "After removing FP/FN: 19596\n",
      "Examples with one uorf: 2009\n"
     ]
    },
    {
     "name": "stderr",
     "output_type": "stream",
     "text": [
      "/var/folders/6b/4m6tvsws1rvb767d463fsk7r0000gn/T/ipykernel_1357/1367445923.py:14: UserWarning: Boolean Series key will be reindexed to match DataFrame index.\n",
      "  uorf_data = my_utils.analyze(data)[data['orf_number'] == 1][data['aug_number'] == 1]\n"
     ]
    }
   ],
   "source": [
    "#load data (20.000 random 5'UTRs of 50nt length)\n",
    "data = pd.read_csv('/Users/frederickkorbel/Documents/projects/paper/data/MRL_pred.csv', index_col = False)\n",
    "print('Initital dataset size:', len(data))\n",
    "\n",
    "#load trained model and predict MRL\n",
    "mrl_model = tf.keras.models.load_model('/Users/frederickkorbel/Documents/projects/paper/data/seelig/Supplementary Code/modeling/saved_models/main_MRL_model.hdf5')\n",
    "\n",
    "#remove FP (delta >= 1) and FN (delta >= 2)\n",
    "data = data[(data['pred'] - data['rl']) <= 1.0] #FP\n",
    "data = data[(data['rl'] - data['pred']) <= 2.0] #FN\n",
    "print('After removing FP/FN:', len(data))\n",
    "\n",
    "#keep only 5'utrs with one uorf\n",
    "uorf_data = my_utils.analyze(data)[data['orf_number'] == 1][data['aug_number'] == 1]\n",
    "print('Examples with one uorf:', len(uorf_data))\n",
    "\n"
   ]
  },
  {
   "cell_type": "code",
   "execution_count": 13,
   "metadata": {},
   "outputs": [],
   "source": [
    "# Are uorfs distributed normally across the 5'UTR? -> y= frequency, x= nt position"
   ]
  },
  {
   "cell_type": "code",
   "execution_count": 11,
   "metadata": {},
   "outputs": [
    {
     "ename": "ValueError",
     "evalue": "Input 0 of layer dense_1 is incompatible with the layer: expected axis -1 of input shape to have value 6000 but received input with shape (50, 12000)",
     "output_type": "error",
     "traceback": [
      "\u001b[0;31m---------------------------------------------------------------------------\u001b[0m",
      "\u001b[0;31mValueError\u001b[0m                                Traceback (most recent call last)",
      "\u001b[1;32m/Users/frederickkorbel/Documents/projects/paper/mlcis/uorf_positional_effects.ipynb Cell 4'\u001b[0m in \u001b[0;36m<module>\u001b[0;34m\u001b[0m\n\u001b[1;32m      <a href='vscode-notebook-cell:/Users/frederickkorbel/Documents/projects/paper/mlcis/uorf_positional_effects.ipynb#ch0000003?line=1'>2</a>\u001b[0m lowest_ten \u001b[39m=\u001b[39m uorf_data[uorf_data[\u001b[39m'\u001b[39m\u001b[39mpred\u001b[39m\u001b[39m'\u001b[39m] \u001b[39m<\u001b[39m\u001b[39m=\u001b[39m uorf_data[\u001b[39m'\u001b[39m\u001b[39mpred\u001b[39m\u001b[39m'\u001b[39m]\u001b[39m.\u001b[39mquantile(\u001b[39m0.1\u001b[39m)]\n\u001b[1;32m      <a href='vscode-notebook-cell:/Users/frederickkorbel/Documents/projects/paper/mlcis/uorf_positional_effects.ipynb#ch0000003?line=2'>3</a>\u001b[0m lowest_ten_seq \u001b[39m=\u001b[39m one_hot_encode(uorf_data, seq_len\u001b[39m=\u001b[39m\u001b[39m50\u001b[39m)\n\u001b[0;32m----> <a href='vscode-notebook-cell:/Users/frederickkorbel/Documents/projects/paper/mlcis/uorf_positional_effects.ipynb#ch0000003?line=3'>4</a>\u001b[0m lowest_ten_meta \u001b[39m=\u001b[39m Metaplot(ig\u001b[39m.\u001b[39;49mintegrated_gradients(mrl_model, lowest_ten_seq[:\u001b[39m2\u001b[39;49m]))\n",
      "File \u001b[0;32m~/Documents/projects/paper/mlcis/integrated_gradients.py:94\u001b[0m, in \u001b[0;36mintegrated_gradients\u001b[0;34m(model, input_matrix, baseline, steps)\u001b[0m\n\u001b[1;32m     <a href='file:///~/Documents/projects/paper/mlcis/integrated_gradients.py?line=91'>92</a>\u001b[0m \u001b[39mwith\u001b[39;00m tf\u001b[39m.\u001b[39mGradientTape() \u001b[39mas\u001b[39;00m tape:\n\u001b[1;32m     <a href='file:///~/Documents/projects/paper/mlcis/integrated_gradients.py?line=92'>93</a>\u001b[0m     tape\u001b[39m.\u001b[39mwatch(linear_path)\n\u001b[0;32m---> <a href='file:///~/Documents/projects/paper/mlcis/integrated_gradients.py?line=93'>94</a>\u001b[0m     values \u001b[39m=\u001b[39m model(linear_path) \u001b[39m#call the model to obtain predictions for each position\u001b[39;00m\n\u001b[1;32m     <a href='file:///~/Documents/projects/paper/mlcis/integrated_gradients.py?line=94'>95</a>\u001b[0m     dF_dx \u001b[39m=\u001b[39m tape\u001b[39m.\u001b[39mgradient(values, linear_path)\n\u001b[1;32m     <a href='file:///~/Documents/projects/paper/mlcis/integrated_gradients.py?line=96'>97</a>\u001b[0m \u001b[39m#integral approximation\u001b[39;00m\n",
      "File \u001b[0;32m~/anaconda3/envs/mlcis/lib/python3.9/site-packages/tensorflow/python/keras/engine/base_layer.py:1012\u001b[0m, in \u001b[0;36mLayer.__call__\u001b[0;34m(self, *args, **kwargs)\u001b[0m\n\u001b[1;32m   <a href='file:///~/anaconda3/envs/mlcis/lib/python3.9/site-packages/tensorflow/python/keras/engine/base_layer.py?line=1007'>1008</a>\u001b[0m   \u001b[39mself\u001b[39m\u001b[39m.\u001b[39m_maybe_build(inputs)\n\u001b[1;32m   <a href='file:///~/anaconda3/envs/mlcis/lib/python3.9/site-packages/tensorflow/python/keras/engine/base_layer.py?line=1009'>1010</a>\u001b[0m \u001b[39mwith\u001b[39;00m autocast_variable\u001b[39m.\u001b[39menable_auto_cast_variables(\n\u001b[1;32m   <a href='file:///~/anaconda3/envs/mlcis/lib/python3.9/site-packages/tensorflow/python/keras/engine/base_layer.py?line=1010'>1011</a>\u001b[0m     \u001b[39mself\u001b[39m\u001b[39m.\u001b[39m_compute_dtype_object):\n\u001b[0;32m-> <a href='file:///~/anaconda3/envs/mlcis/lib/python3.9/site-packages/tensorflow/python/keras/engine/base_layer.py?line=1011'>1012</a>\u001b[0m   outputs \u001b[39m=\u001b[39m call_fn(inputs, \u001b[39m*\u001b[39;49margs, \u001b[39m*\u001b[39;49m\u001b[39m*\u001b[39;49mkwargs)\n\u001b[1;32m   <a href='file:///~/anaconda3/envs/mlcis/lib/python3.9/site-packages/tensorflow/python/keras/engine/base_layer.py?line=1013'>1014</a>\u001b[0m \u001b[39mif\u001b[39;00m \u001b[39mself\u001b[39m\u001b[39m.\u001b[39m_activity_regularizer:\n\u001b[1;32m   <a href='file:///~/anaconda3/envs/mlcis/lib/python3.9/site-packages/tensorflow/python/keras/engine/base_layer.py?line=1014'>1015</a>\u001b[0m   \u001b[39mself\u001b[39m\u001b[39m.\u001b[39m_handle_activity_regularization(inputs, outputs)\n",
      "File \u001b[0;32m~/anaconda3/envs/mlcis/lib/python3.9/site-packages/tensorflow/python/keras/engine/sequential.py:375\u001b[0m, in \u001b[0;36mSequential.call\u001b[0;34m(self, inputs, training, mask)\u001b[0m\n\u001b[1;32m    <a href='file:///~/anaconda3/envs/mlcis/lib/python3.9/site-packages/tensorflow/python/keras/engine/sequential.py?line=372'>373</a>\u001b[0m   \u001b[39mif\u001b[39;00m \u001b[39mnot\u001b[39;00m \u001b[39mself\u001b[39m\u001b[39m.\u001b[39mbuilt:\n\u001b[1;32m    <a href='file:///~/anaconda3/envs/mlcis/lib/python3.9/site-packages/tensorflow/python/keras/engine/sequential.py?line=373'>374</a>\u001b[0m     \u001b[39mself\u001b[39m\u001b[39m.\u001b[39m_init_graph_network(\u001b[39mself\u001b[39m\u001b[39m.\u001b[39minputs, \u001b[39mself\u001b[39m\u001b[39m.\u001b[39moutputs)\n\u001b[0;32m--> <a href='file:///~/anaconda3/envs/mlcis/lib/python3.9/site-packages/tensorflow/python/keras/engine/sequential.py?line=374'>375</a>\u001b[0m   \u001b[39mreturn\u001b[39;00m \u001b[39msuper\u001b[39;49m(Sequential, \u001b[39mself\u001b[39;49m)\u001b[39m.\u001b[39;49mcall(inputs, training\u001b[39m=\u001b[39;49mtraining, mask\u001b[39m=\u001b[39;49mmask)\n\u001b[1;32m    <a href='file:///~/anaconda3/envs/mlcis/lib/python3.9/site-packages/tensorflow/python/keras/engine/sequential.py?line=376'>377</a>\u001b[0m outputs \u001b[39m=\u001b[39m inputs  \u001b[39m# handle the corner case where self.layers is empty\u001b[39;00m\n\u001b[1;32m    <a href='file:///~/anaconda3/envs/mlcis/lib/python3.9/site-packages/tensorflow/python/keras/engine/sequential.py?line=377'>378</a>\u001b[0m \u001b[39mfor\u001b[39;00m layer \u001b[39min\u001b[39;00m \u001b[39mself\u001b[39m\u001b[39m.\u001b[39mlayers:\n\u001b[1;32m    <a href='file:///~/anaconda3/envs/mlcis/lib/python3.9/site-packages/tensorflow/python/keras/engine/sequential.py?line=378'>379</a>\u001b[0m   \u001b[39m# During each iteration, `inputs` are the inputs to `layer`, and `outputs`\u001b[39;00m\n\u001b[1;32m    <a href='file:///~/anaconda3/envs/mlcis/lib/python3.9/site-packages/tensorflow/python/keras/engine/sequential.py?line=379'>380</a>\u001b[0m   \u001b[39m# are the outputs of `layer` applied to `inputs`. At the end of each\u001b[39;00m\n\u001b[1;32m    <a href='file:///~/anaconda3/envs/mlcis/lib/python3.9/site-packages/tensorflow/python/keras/engine/sequential.py?line=380'>381</a>\u001b[0m   \u001b[39m# iteration `inputs` is set to `outputs` to prepare for the next layer.\u001b[39;00m\n",
      "File \u001b[0;32m~/anaconda3/envs/mlcis/lib/python3.9/site-packages/tensorflow/python/keras/engine/functional.py:424\u001b[0m, in \u001b[0;36mFunctional.call\u001b[0;34m(self, inputs, training, mask)\u001b[0m\n\u001b[1;32m    <a href='file:///~/anaconda3/envs/mlcis/lib/python3.9/site-packages/tensorflow/python/keras/engine/functional.py?line=405'>406</a>\u001b[0m \u001b[39mdef\u001b[39;00m \u001b[39mcall\u001b[39m(\u001b[39mself\u001b[39m, inputs, training\u001b[39m=\u001b[39m\u001b[39mNone\u001b[39;00m, mask\u001b[39m=\u001b[39m\u001b[39mNone\u001b[39;00m):\n\u001b[1;32m    <a href='file:///~/anaconda3/envs/mlcis/lib/python3.9/site-packages/tensorflow/python/keras/engine/functional.py?line=406'>407</a>\u001b[0m   \u001b[39m\"\"\"Calls the model on new inputs.\u001b[39;00m\n\u001b[1;32m    <a href='file:///~/anaconda3/envs/mlcis/lib/python3.9/site-packages/tensorflow/python/keras/engine/functional.py?line=407'>408</a>\u001b[0m \n\u001b[1;32m    <a href='file:///~/anaconda3/envs/mlcis/lib/python3.9/site-packages/tensorflow/python/keras/engine/functional.py?line=408'>409</a>\u001b[0m \u001b[39m  In this case `call` just reapplies\u001b[39;00m\n\u001b[0;32m   (...)\u001b[0m\n\u001b[1;32m    <a href='file:///~/anaconda3/envs/mlcis/lib/python3.9/site-packages/tensorflow/python/keras/engine/functional.py?line=421'>422</a>\u001b[0m \u001b[39m      a list of tensors if there are more than one outputs.\u001b[39;00m\n\u001b[1;32m    <a href='file:///~/anaconda3/envs/mlcis/lib/python3.9/site-packages/tensorflow/python/keras/engine/functional.py?line=422'>423</a>\u001b[0m \u001b[39m  \"\"\"\u001b[39;00m\n\u001b[0;32m--> <a href='file:///~/anaconda3/envs/mlcis/lib/python3.9/site-packages/tensorflow/python/keras/engine/functional.py?line=423'>424</a>\u001b[0m   \u001b[39mreturn\u001b[39;00m \u001b[39mself\u001b[39;49m\u001b[39m.\u001b[39;49m_run_internal_graph(\n\u001b[1;32m    <a href='file:///~/anaconda3/envs/mlcis/lib/python3.9/site-packages/tensorflow/python/keras/engine/functional.py?line=424'>425</a>\u001b[0m       inputs, training\u001b[39m=\u001b[39;49mtraining, mask\u001b[39m=\u001b[39;49mmask)\n",
      "File \u001b[0;32m~/anaconda3/envs/mlcis/lib/python3.9/site-packages/tensorflow/python/keras/engine/functional.py:560\u001b[0m, in \u001b[0;36mFunctional._run_internal_graph\u001b[0;34m(self, inputs, training, mask)\u001b[0m\n\u001b[1;32m    <a href='file:///~/anaconda3/envs/mlcis/lib/python3.9/site-packages/tensorflow/python/keras/engine/functional.py?line=556'>557</a>\u001b[0m   \u001b[39mcontinue\u001b[39;00m  \u001b[39m# Node is not computable, try skipping.\u001b[39;00m\n\u001b[1;32m    <a href='file:///~/anaconda3/envs/mlcis/lib/python3.9/site-packages/tensorflow/python/keras/engine/functional.py?line=558'>559</a>\u001b[0m args, kwargs \u001b[39m=\u001b[39m node\u001b[39m.\u001b[39mmap_arguments(tensor_dict)\n\u001b[0;32m--> <a href='file:///~/anaconda3/envs/mlcis/lib/python3.9/site-packages/tensorflow/python/keras/engine/functional.py?line=559'>560</a>\u001b[0m outputs \u001b[39m=\u001b[39m node\u001b[39m.\u001b[39;49mlayer(\u001b[39m*\u001b[39;49margs, \u001b[39m*\u001b[39;49m\u001b[39m*\u001b[39;49mkwargs)\n\u001b[1;32m    <a href='file:///~/anaconda3/envs/mlcis/lib/python3.9/site-packages/tensorflow/python/keras/engine/functional.py?line=561'>562</a>\u001b[0m \u001b[39m# Update tensor_dict.\u001b[39;00m\n\u001b[1;32m    <a href='file:///~/anaconda3/envs/mlcis/lib/python3.9/site-packages/tensorflow/python/keras/engine/functional.py?line=562'>563</a>\u001b[0m \u001b[39mfor\u001b[39;00m x_id, y \u001b[39min\u001b[39;00m \u001b[39mzip\u001b[39m(node\u001b[39m.\u001b[39mflat_output_ids, nest\u001b[39m.\u001b[39mflatten(outputs)):\n",
      "File \u001b[0;32m~/anaconda3/envs/mlcis/lib/python3.9/site-packages/tensorflow/python/keras/engine/base_layer.py:998\u001b[0m, in \u001b[0;36mLayer.__call__\u001b[0;34m(self, *args, **kwargs)\u001b[0m\n\u001b[1;32m    <a href='file:///~/anaconda3/envs/mlcis/lib/python3.9/site-packages/tensorflow/python/keras/engine/base_layer.py?line=994'>995</a>\u001b[0m \u001b[39mif\u001b[39;00m \u001b[39mself\u001b[39m\u001b[39m.\u001b[39m_autocast:\n\u001b[1;32m    <a href='file:///~/anaconda3/envs/mlcis/lib/python3.9/site-packages/tensorflow/python/keras/engine/base_layer.py?line=995'>996</a>\u001b[0m   inputs \u001b[39m=\u001b[39m \u001b[39mself\u001b[39m\u001b[39m.\u001b[39m_maybe_cast_inputs(inputs, input_list)\n\u001b[0;32m--> <a href='file:///~/anaconda3/envs/mlcis/lib/python3.9/site-packages/tensorflow/python/keras/engine/base_layer.py?line=997'>998</a>\u001b[0m input_spec\u001b[39m.\u001b[39;49massert_input_compatibility(\u001b[39mself\u001b[39;49m\u001b[39m.\u001b[39;49minput_spec, inputs, \u001b[39mself\u001b[39;49m\u001b[39m.\u001b[39;49mname)\n\u001b[1;32m    <a href='file:///~/anaconda3/envs/mlcis/lib/python3.9/site-packages/tensorflow/python/keras/engine/base_layer.py?line=998'>999</a>\u001b[0m \u001b[39mif\u001b[39;00m eager:\n\u001b[1;32m   <a href='file:///~/anaconda3/envs/mlcis/lib/python3.9/site-packages/tensorflow/python/keras/engine/base_layer.py?line=999'>1000</a>\u001b[0m   call_fn \u001b[39m=\u001b[39m \u001b[39mself\u001b[39m\u001b[39m.\u001b[39mcall\n",
      "File \u001b[0;32m~/anaconda3/envs/mlcis/lib/python3.9/site-packages/tensorflow/python/keras/engine/input_spec.py:255\u001b[0m, in \u001b[0;36massert_input_compatibility\u001b[0;34m(input_spec, inputs, layer_name)\u001b[0m\n\u001b[1;32m    <a href='file:///~/anaconda3/envs/mlcis/lib/python3.9/site-packages/tensorflow/python/keras/engine/input_spec.py?line=252'>253</a>\u001b[0m       value \u001b[39m=\u001b[39m value\u001b[39m.\u001b[39mvalue\n\u001b[1;32m    <a href='file:///~/anaconda3/envs/mlcis/lib/python3.9/site-packages/tensorflow/python/keras/engine/input_spec.py?line=253'>254</a>\u001b[0m     \u001b[39mif\u001b[39;00m value \u001b[39mis\u001b[39;00m \u001b[39mnot\u001b[39;00m \u001b[39mNone\u001b[39;00m \u001b[39mand\u001b[39;00m shape_as_list[\u001b[39mint\u001b[39m(axis)] \u001b[39mnot\u001b[39;00m \u001b[39min\u001b[39;00m {value, \u001b[39mNone\u001b[39;00m}:\n\u001b[0;32m--> <a href='file:///~/anaconda3/envs/mlcis/lib/python3.9/site-packages/tensorflow/python/keras/engine/input_spec.py?line=254'>255</a>\u001b[0m       \u001b[39mraise\u001b[39;00m \u001b[39mValueError\u001b[39;00m(\n\u001b[1;32m    <a href='file:///~/anaconda3/envs/mlcis/lib/python3.9/site-packages/tensorflow/python/keras/engine/input_spec.py?line=255'>256</a>\u001b[0m           \u001b[39m'\u001b[39m\u001b[39mInput \u001b[39m\u001b[39m'\u001b[39m \u001b[39m+\u001b[39m \u001b[39mstr\u001b[39m(input_index) \u001b[39m+\u001b[39m \u001b[39m'\u001b[39m\u001b[39m of layer \u001b[39m\u001b[39m'\u001b[39m \u001b[39m+\u001b[39m layer_name \u001b[39m+\u001b[39m \u001b[39m'\u001b[39m\u001b[39m is\u001b[39m\u001b[39m'\u001b[39m\n\u001b[1;32m    <a href='file:///~/anaconda3/envs/mlcis/lib/python3.9/site-packages/tensorflow/python/keras/engine/input_spec.py?line=256'>257</a>\u001b[0m           \u001b[39m'\u001b[39m\u001b[39m incompatible with the layer: expected axis \u001b[39m\u001b[39m'\u001b[39m \u001b[39m+\u001b[39m \u001b[39mstr\u001b[39m(axis) \u001b[39m+\u001b[39m\n\u001b[1;32m    <a href='file:///~/anaconda3/envs/mlcis/lib/python3.9/site-packages/tensorflow/python/keras/engine/input_spec.py?line=257'>258</a>\u001b[0m           \u001b[39m'\u001b[39m\u001b[39m of input shape to have value \u001b[39m\u001b[39m'\u001b[39m \u001b[39m+\u001b[39m \u001b[39mstr\u001b[39m(value) \u001b[39m+\u001b[39m\n\u001b[1;32m    <a href='file:///~/anaconda3/envs/mlcis/lib/python3.9/site-packages/tensorflow/python/keras/engine/input_spec.py?line=258'>259</a>\u001b[0m           \u001b[39m'\u001b[39m\u001b[39m but received input with shape \u001b[39m\u001b[39m'\u001b[39m \u001b[39m+\u001b[39m display_shape(x\u001b[39m.\u001b[39mshape))\n\u001b[1;32m    <a href='file:///~/anaconda3/envs/mlcis/lib/python3.9/site-packages/tensorflow/python/keras/engine/input_spec.py?line=259'>260</a>\u001b[0m \u001b[39m# Check shape.\u001b[39;00m\n\u001b[1;32m    <a href='file:///~/anaconda3/envs/mlcis/lib/python3.9/site-packages/tensorflow/python/keras/engine/input_spec.py?line=260'>261</a>\u001b[0m \u001b[39mif\u001b[39;00m spec\u001b[39m.\u001b[39mshape \u001b[39mis\u001b[39;00m \u001b[39mnot\u001b[39;00m \u001b[39mNone\u001b[39;00m \u001b[39mand\u001b[39;00m shape\u001b[39m.\u001b[39mrank \u001b[39mis\u001b[39;00m \u001b[39mnot\u001b[39;00m \u001b[39mNone\u001b[39;00m:\n",
      "\u001b[0;31mValueError\u001b[0m: Input 0 of layer dense_1 is incompatible with the layer: expected axis -1 of input shape to have value 6000 but received input with shape (50, 12000)"
     ]
    }
   ],
   "source": [
    "#10th percentile -> 10% of examples with lowest MRL\n",
    "lowest_ten = uorf_data[uorf_data['pred'] <= uorf_data['pred'].quantile(0.1)]\n",
    "lowest_ten_seq = one_hot_encode(uorf_data, seq_len=50)\n",
    "lowest_ten_meta = Metaplot(ig.integrated_gradients(mrl_model, lowest_ten_seq[:2]))\n"
   ]
  },
  {
   "cell_type": "code",
   "execution_count": 29,
   "metadata": {},
   "outputs": [
    {
     "data": {
      "image/png": "[encoded data removed]",
      "text/plain": [
       "<Figure size 720x360 with 1 Axes>"
      ]
     },
     "metadata": {
      "needs_background": "light"
     },
     "output_type": "display_data"
    },
    {
     "data": {
      "text/plain": [
       "<metaplot.Metaplot at 0x14cca80a0>"
      ]
     },
     "execution_count": 29,
     "metadata": {},
     "output_type": "execute_result"
    }
   ],
   "source": [
    "Metaplot(ig.integrated_gradients(mrl_model, lowest_ten_seq[:1]))"
   ]
  },
  {
   "cell_type": "code",
   "execution_count": 24,
   "metadata": {},
   "outputs": [],
   "source": [
    "#90th percentile -> 10% of examples with highest MRL\n",
    "highest_ten = uorf_data[uorf_data['pred'] >= uorf_data['pred'].quantile(0.9)]\n",
    "highest_ten_seq = one_hot_encode(highest_ten, seq_len=50)\n",
    "#highest_ten_ex = ig.integrated_gradients(mrl_model, highest_ten_seq)\n",
    "#highest_ten_meta = Metaplot(highest_ten_ex)"
   ]
  },
  {
   "cell_type": "code",
   "execution_count": null,
   "metadata": {},
   "outputs": [],
   "source": [
    "#Distributions\n",
    "\n",
    "#10th percentile\n",
    "\n",
    "#90th percentile"
   ]
  },
  {
   "cell_type": "code",
   "execution_count": null,
   "metadata": {},
   "outputs": [],
   "source": [
    "#t-test"
   ]
  },
  {
   "cell_type": "code",
   "execution_count": 27,
   "metadata": {},
   "outputs": [
    {
     "ename": "ValueError",
     "evalue": "could not broadcast input array from shape (2,50,4) into shape (1,50,4)",
     "output_type": "error",
     "traceback": [
      "\u001b[0;31m---------------------------------------------------------------------------\u001b[0m",
      "\u001b[0;31mValueError\u001b[0m                                Traceback (most recent call last)",
      "\u001b[1;32m/Users/frederickkorbel/Documents/projects/paper/mlcis/uorf_positional_effects.ipynb Cell 9'\u001b[0m in \u001b[0;36m<module>\u001b[0;34m\u001b[0m\n\u001b[1;32m      <a href='vscode-notebook-cell:/Users/frederickkorbel/Documents/projects/paper/mlcis/uorf_positional_effects.ipynb#ch0000010?line=4'>5</a>\u001b[0m linear_path \u001b[39m=\u001b[39m np\u001b[39m.\u001b[39mzeros(\u001b[39mtuple\u001b[39m([\u001b[39m50\u001b[39m] \u001b[39m+\u001b[39m [t \u001b[39mfor\u001b[39;00m t \u001b[39min\u001b[39;00m highest_ten_seq[:\u001b[39m1\u001b[39m]\u001b[39m.\u001b[39mshape]))\n\u001b[1;32m      <a href='vscode-notebook-cell:/Users/frederickkorbel/Documents/projects/paper/mlcis/uorf_positional_effects.ipynb#ch0000010?line=5'>6</a>\u001b[0m \u001b[39mfor\u001b[39;00m i \u001b[39min\u001b[39;00m \u001b[39mrange\u001b[39m(\u001b[39m50\u001b[39m):\n\u001b[0;32m----> <a href='vscode-notebook-cell:/Users/frederickkorbel/Documents/projects/paper/mlcis/uorf_positional_effects.ipynb#ch0000010?line=6'>7</a>\u001b[0m     linear_path[i] \u001b[39m=\u001b[39m baseline \u001b[39m+\u001b[39m (highest_ten_seq[:\u001b[39m1\u001b[39m] \u001b[39m-\u001b[39m baseline) \u001b[39m*\u001b[39m (i\u001b[39m*\u001b[39m\u001b[39m1.0\u001b[39m\u001b[39m/\u001b[39m\u001b[39m50\u001b[39m) \u001b[39m# baseline + delta * alpha\u001b[39;00m\n\u001b[1;32m      <a href='vscode-notebook-cell:/Users/frederickkorbel/Documents/projects/paper/mlcis/uorf_positional_effects.ipynb#ch0000010?line=7'>8</a>\u001b[0m linear_path \u001b[39m=\u001b[39m linear_path\u001b[39m.\u001b[39msqueeze()\n\u001b[1;32m      <a href='vscode-notebook-cell:/Users/frederickkorbel/Documents/projects/paper/mlcis/uorf_positional_effects.ipynb#ch0000010?line=8'>9</a>\u001b[0m linear_path \u001b[39m=\u001b[39m tf\u001b[39m.\u001b[39mconvert_to_tensor(linear_path, dtype \u001b[39m=\u001b[39m tf\u001b[39m.\u001b[39mfloat32)\n",
      "\u001b[0;31mValueError\u001b[0m: could not broadcast input array from shape (2,50,4) into shape (1,50,4)"
     ]
    }
   ],
   "source": [
    "baseline = np.zeros(highest_ten_seq[:2].shape)\n",
    "\n",
    "\n",
    "\n",
    "linear_path = np.zeros(tuple([50] + [t for t in highest_ten_seq[:1].shape]))\n",
    "for i in range(50):\n",
    "    linear_path[i] = baseline + (highest_ten_seq[:1] - baseline) * (i*1.0/50) # baseline + delta * alpha\n",
    "linear_path = linear_path.squeeze()\n",
    "linear_path = tf.convert_to_tensor(linear_path, dtype = tf.float32)\n",
    "\n",
    "linear_path"
   ]
  },
  {
   "cell_type": "code",
   "execution_count": null,
   "metadata": {},
   "outputs": [],
   "source": []
  }
 ],
 "metadata": {
  "interpreter": {
   "hash": "57bfa4aa8d2cf613342596a6d988858e43b151c27750d9d6d65cd918aed0d614"
  },
  "kernelspec": {
   "display_name": "Python 3.9.10 ('mlcis')",
   "language": "python",
   "name": "python3"
  },
  "language_info": {
   "codemirror_mode": {
    "name": "ipython",
    "version": 3
   },
   "file_extension": ".py",
   "mimetype": "text/x-python",
   "name": "python",
   "nbconvert_exporter": "python",
   "pygments_lexer": "ipython3",
   "version": "3.9.10"
  },
  "orig_nbformat": 4
 },
 "nbformat": 4,
 "nbformat_minor": 2
}
