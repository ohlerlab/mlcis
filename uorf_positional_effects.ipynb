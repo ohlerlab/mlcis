{
 "cells": [
  {
   "cell_type": "code",
   "execution_count": 1,
   "metadata": {},
   "outputs": [],
   "source": [
    "#imports\n",
    "\n",
    "import pandas as pd\n",
    "import numpy as np\n",
    "import matplotlib.pyplot as plt\n",
    "import seaborn as sns\n",
    "import tensorflow as tf\n",
    "\n",
    "import integrated_gradients as ig\n",
    "import my_utils\n",
    "from metaplot import Metaplot, one_hot_encode\n"
   ]
  },
  {
   "cell_type": "code",
   "execution_count": 2,
   "metadata": {},
   "outputs": [
    {
     "name": "stdout",
     "output_type": "stream",
     "text": [
      "Initital dataset size: 20000\n"
     ]
    },
    {
     "name": "stderr",
     "output_type": "stream",
     "text": [
      "2022-02-17 14:33:07.410901: I tensorflow/core/platform/cpu_feature_guard.cc:142] This TensorFlow binary is optimized with oneAPI Deep Neural Network Library (oneDNN) to use the following CPU instructions in performance-critical operations:  SSE4.1 SSE4.2 AVX AVX2 FMA\n",
      "To enable them in other operations, rebuild TensorFlow with the appropriate compiler flags.\n"
     ]
    },
    {
     "name": "stdout",
     "output_type": "stream",
     "text": [
      "After removing FP/FN: 19596\n",
      "Examples with one uorf: 2009\n"
     ]
    },
    {
     "name": "stderr",
     "output_type": "stream",
     "text": [
      "/var/folders/6b/4m6tvsws1rvb767d463fsk7r0000gn/T/ipykernel_10210/1367445923.py:14: UserWarning: Boolean Series key will be reindexed to match DataFrame index.\n",
      "  uorf_data = my_utils.analyze(data)[data['orf_number'] == 1][data['aug_number'] == 1]\n"
     ]
    }
   ],
   "source": [
    "#load data (20.000 random 5'UTRs of 50nt length)\n",
    "data = pd.read_csv('/Users/frederickkorbel/Documents/projects/paper/data/MRL_pred.csv', index_col = False)\n",
    "print('Initital dataset size:', len(data))\n",
    "\n",
    "#load trained model and predict MRL\n",
    "mrl_model = tf.keras.models.load_model('/Users/frederickkorbel/Documents/projects/paper/data/seelig/Supplementary Code/modeling/saved_models/main_MRL_model.hdf5')\n",
    "\n",
    "#remove FP (delta >= 1) and FN (delta >= 2)\n",
    "data = data[(data['pred'] - data['rl']) <= 1.0] #FP\n",
    "data = data[(data['rl'] - data['pred']) <= 2.0] #FN\n",
    "print('After removing FP/FN:', len(data))\n",
    "\n",
    "#keep only 5'utrs with one uorf\n",
    "uorf_data = my_utils.analyze(data)[data['orf_number'] == 1][data['aug_number'] == 1]\n",
    "print('Examples with one uorf:', len(uorf_data))\n",
    "\n"
   ]
  },
  {
   "cell_type": "code",
   "execution_count": 13,
   "metadata": {},
   "outputs": [],
   "source": [
    "# Are uorfs distributed normally across the 5'UTR? -> y= frequency, x= nt position"
   ]
  },
  {
   "cell_type": "code",
   "execution_count": 7,
   "metadata": {},
   "outputs": [
    {
     "data": {
      "image/png": "[encoded data removed]",
      "text/plain": [
       "<Figure size 720x360 with 1 Axes>"
      ]
     },
     "metadata": {
      "needs_background": "light"
     },
     "output_type": "display_data"
    }
   ],
   "source": [
    "#10th percentile -> 10% of examples with lowest MRL\n",
    "lowest_ten = uorf_data[uorf_data['pred'] <= uorf_data['pred'].quantile(0.1)]\n",
    "lowest_ten_seq = one_hot_encode(uorf_data, seq_len=50)\n",
    "lowest_ten_meta = Metaplot(ig.integrated_gradients(mrl_model, lowest_ten_seq[:1]))\n"
   ]
  },
  {
   "cell_type": "code",
   "execution_count": 9,
   "metadata": {},
   "outputs": [
    {
     "data": {
      "text/plain": [
       "<tf.Tensor: shape=(1, 50, 4), dtype=float32, numpy=\n",
       "array([[[ 0.01622646, -0.        , -0.        , -0.        ],\n",
       "        [-0.        , -0.        , -0.        ,  0.03346769],\n",
       "        [ 0.01101187, -0.        , -0.        , -0.        ],\n",
       "        [ 0.02311665, -0.        ,  0.        , -0.        ],\n",
       "        [ 0.        , -0.06320544, -0.        ,  0.        ],\n",
       "        [-0.01447526,  0.        , -0.        ,  0.        ],\n",
       "        [ 0.        , -0.01074039, -0.        , -0.        ],\n",
       "        [ 0.        , -0.04929949, -0.        ,  0.        ],\n",
       "        [-0.        , -0.        , -0.        ,  0.0154151 ],\n",
       "        [-0.        , -0.        , -0.        ,  0.03914265],\n",
       "        [-0.        , -0.02209692,  0.        ,  0.        ],\n",
       "        [-0.        , -0.        , -0.02703942,  0.        ],\n",
       "        [ 0.01139317, -0.        , -0.        , -0.        ],\n",
       "        [ 0.00971923, -0.        , -0.        ,  0.        ],\n",
       "        [-0.        , -0.        , -0.        ,  0.04334623],\n",
       "        [-0.        , -0.00618961, -0.        ,  0.        ],\n",
       "        [ 0.        ,  0.03221307, -0.        ,  0.        ],\n",
       "        [ 0.        , -0.        ,  0.        , -0.02906696],\n",
       "        [ 0.        , -0.01954252, -0.        ,  0.        ],\n",
       "        [ 0.        ,  0.        , -0.13247153, -0.        ],\n",
       "        [ 0.        , -0.12604302, -0.        , -0.        ],\n",
       "        [-0.        , -0.        ,  0.        ,  0.2780797 ],\n",
       "        [-0.        ,  0.        ,  0.03230248,  0.        ],\n",
       "        [-0.        , -0.        ,  0.24897753, -0.        ],\n",
       "        [ 0.28786188,  0.        ,  0.        ,  0.        ],\n",
       "        [-0.44827333,  0.        ,  0.        ,  0.        ],\n",
       "        [ 0.        ,  0.        ,  0.        , -1.2035388 ],\n",
       "        [ 0.        ,  0.        , -1.062326  ,  0.        ],\n",
       "        [ 0.        ,  0.        , -0.3120508 ,  0.        ],\n",
       "        [-0.        , -0.04062066,  0.        ,  0.        ],\n",
       "        [ 0.        ,  0.        , -0.        ,  0.08424641],\n",
       "        [ 0.        , -0.03701767, -0.        , -0.        ],\n",
       "        [ 0.01383603, -0.        , -0.        ,  0.        ],\n",
       "        [ 0.        , -0.04854049,  0.        ,  0.        ],\n",
       "        [ 0.        , -0.        ,  0.01528964, -0.        ],\n",
       "        [ 0.00507317, -0.        ,  0.        , -0.        ],\n",
       "        [-0.00465569, -0.        , -0.        ,  0.        ],\n",
       "        [-0.        ,  0.        ,  0.03863947, -0.        ],\n",
       "        [-0.03373928,  0.        , -0.        ,  0.        ],\n",
       "        [-0.09951942,  0.        , -0.        ,  0.        ],\n",
       "        [-0.06533758, -0.        , -0.        ,  0.        ],\n",
       "        [-0.04834061, -0.        , -0.        , -0.        ],\n",
       "        [-0.02739093,  0.        , -0.        , -0.        ],\n",
       "        [-0.        , -0.        , -0.        ,  0.26960376],\n",
       "        [ 0.29219434, -0.        , -0.        , -0.        ],\n",
       "        [ 0.        , -0.        ,  0.01814776, -0.        ],\n",
       "        [ 0.        , -0.        , -0.07754711,  0.        ],\n",
       "        [ 0.        , -0.03382776, -0.        , -0.        ],\n",
       "        [-0.        , -0.        , -0.        ,  0.08895522],\n",
       "        [ 0.06322023, -0.        , -0.        , -0.        ]]],\n",
       "      dtype=float32)>"
      ]
     },
     "execution_count": 9,
     "metadata": {},
     "output_type": "execute_result"
    }
   ],
   "source": [
    "ig.integrated_gradients(mrl_model, lowest_ten_seq[:1])"
   ]
  },
  {
   "cell_type": "code",
   "execution_count": null,
   "metadata": {},
   "outputs": [],
   "source": [
    "#90th percentile -> 10% of examples with highest MRL\n",
    "highest_ten = uorf_data[uorf_data['pred'] >= uorf_data['pred'].quantile(0.9)]\n",
    "highest_ten_seq = one_hot_encode(highest_ten, seq_len=50)\n",
    "highest_ten_ex = ig.integrated_gradients(mrl_model, highest_ten_seq)\n",
    "highest_ten_meta = Metaplot(highest_ten_ex)"
   ]
  },
  {
   "cell_type": "code",
   "execution_count": null,
   "metadata": {},
   "outputs": [],
   "source": [
    "#Distributions\n",
    "\n",
    "#10th percentile\n",
    "\n",
    "#90th percentile"
   ]
  },
  {
   "cell_type": "code",
   "execution_count": null,
   "metadata": {},
   "outputs": [],
   "source": [
    "#t-test"
   ]
  }
 ],
 "metadata": {
  "interpreter": {
   "hash": "57bfa4aa8d2cf613342596a6d988858e43b151c27750d9d6d65cd918aed0d614"
  },
  "kernelspec": {
   "display_name": "Python 3.9.10 ('mlcis')",
   "language": "python",
   "name": "python3"
  },
  "language_info": {
   "codemirror_mode": {
    "name": "ipython",
    "version": 3
   },
   "file_extension": ".py",
   "mimetype": "text/x-python",
   "name": "python",
   "nbconvert_exporter": "python",
   "pygments_lexer": "ipython3",
   "version": "3.9.10"
  },
  "orig_nbformat": 4
 },
 "nbformat": 4,
 "nbformat_minor": 2
}
