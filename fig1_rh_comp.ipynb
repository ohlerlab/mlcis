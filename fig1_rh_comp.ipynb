{
 "cells": [
  {
   "cell_type": "code",
   "execution_count": 1,
   "metadata": {},
   "outputs": [],
   "source": [
    "#imports\n",
    "\n",
    "import pandas as pd\n",
    "import numpy as np\n",
    "import matplotlib.pyplot as plt\n",
    "import seaborn as sns\n",
    "import tensorflow as tf\n",
    "import random\n",
    "import keras\n",
    "\n",
    "import integrated_gradients as ig\n",
    "import my_utils\n",
    "from metaplot import Metaplot, one_hot_encode\n",
    "from sklearn import preprocessing\n",
    "from varname import nameof\n",
    "\n",
    "\n",
    "def plot_meta(data, model, subset=None):\n",
    "\n",
    "    if subset is None:\n",
    "        print(len(data))\n",
    "        data_seq = one_hot_encode(data, seq_len=50)\n",
    "        data_ig = ig.integrated_gradients(model, data_seq)\n",
    "        Metaplot(data_ig, colorbar = False)\n",
    "    \n",
    "    elif subset == 'lowest_ten':\n",
    "        data_lowest_ten = data[data['pred'] <= data['pred'].quantile(0.1)]\n",
    "        print(len(data_lowest_ten))\n",
    "        lowest_ten_seq = one_hot_encode(data_lowest_ten, seq_len=50)\n",
    "        lowest_ten_ig = ig.integrated_gradients(model, lowest_ten_seq)\n",
    "        Metaplot(lowest_ten_ig, colorbar = False)\n",
    "\n",
    "    elif subset == 'highest_ten':\n",
    "        data_highest_ten = data[data['pred'] >= data['pred'].quantile(0.9)]\n",
    "        print(len(data_highest_ten))\n",
    "        highest_ten_seq = one_hot_encode(data_highest_ten, seq_len=50)\n",
    "        highest_ten_ig = ig.integrated_gradients(model, highest_ten_seq)\n",
    "        Metaplot(highest_ten_ig, colorbar = False)\n",
    "        \n",
    "    else:\n",
    "        raise ValueError()\n",
    "\n",
    "def test_data(df, model, test_seq, obs_col, output_col='pred'):\n",
    "    '''Predict mean ribosome load using model and test set UTRs'''\n",
    "    \n",
    "    # Scale the test set mean ribosome load\n",
    "    scaler = preprocessing.StandardScaler()\n",
    "    scaler.fit(df[obs_col].values.reshape(-1,1))\n",
    "    \n",
    "    # Make predictions\n",
    "    predictions = model.predict(test_seq).reshape(-1,1)\n",
    "    \n",
    "    # Inverse scaled predicted mean ribosome load and return in a column labeled 'pred'\n",
    "    df.loc[:,output_col] = scaler.inverse_transform(predictions)\n",
    "    return df\n",
    "\n",
    "def outliers(df, order, typ, cut_fp=1.0, cut_fn=2.0):\n",
    "    if order == 'collect':\n",
    "        if typ == 'fp':\n",
    "            out = df[(df['pred'] - df['rl']) >= cut_fp]\n",
    "    \n",
    "        elif typ == 'fn':\n",
    "            out = df[(df['rl'] - df['pred']) >= cut_fn]\n",
    "\n",
    "        else:\n",
    "            raise ValueError()\n",
    "    \n",
    "    elif order == 'remove':\n",
    "        if typ == 'fp':\n",
    "            out = df[(df['pred'] - df['rl']) <= cut_fp]\n",
    "        \n",
    "        elif typ == 'fn':\n",
    "            out = df[(df['rl'] - df['pred']) <= cut_fn]\n",
    "\n",
    "    return out\n",
    "\n",
    "\n",
    "\n",
    "    "
   ]
  },
  {
   "cell_type": "code",
   "execution_count": 30,
   "metadata": {},
   "outputs": [],
   "source": [
    "#import data\n",
    "\n",
    "#MRL on random\n",
    "test_mrl_random = pd.read_csv('/Users/frederickkorbel/Documents/projects/paper/data/MRL_pred.csv')\n",
    "#hMRL on human\n",
    "test_hmrl_human = pd.read_csv('/Users/frederickkorbel/Documents/projects/paper/data/hMRL_human_50_test_pred.csv')\n",
    "#MRL on human\n",
    "test_hmrl_random = pd.read_csv('/Users/frederickkorbel/Documents/projects/paper/data/MRL_pred.csv').drop(['pred', 'Unnamed: 0', 'Unnamed: 0.1'], axis = 1)\n",
    "#hMRL on random\n",
    "test_mrl_human = pd.read_csv('/Users/frederickkorbel/Documents/projects/paper/data/hMRL_human_50_test_pred.csv').drop(['pred', 'Unnamed: 0', 'Unnamed: 0.1', 'Unnamed: 0.2'], axis = 1)\n",
    "\n",
    "\n",
    "#import models\n",
    "mrl_model = keras.models.load_model('/Users/frederickkorbel/Documents/projects/paper/data/models/main_MRL_model.hdf5')\n",
    "hmrl_model = keras.models.load_model('/Users/frederickkorbel/Documents/projects/paper/data/models/human_MRL_model.hdf5')\n",
    "\n",
    "#make predictions\n",
    "seq_test_mrl_human = one_hot_encode(test_mrl_human, 'utr', 50)\n",
    "test_mrl_human = test_data(df=test_mrl_human, model=mrl_model,test_seq=seq_test_mrl_human, obs_col='rl', output_col='pred')\n",
    "\n",
    "seq_test_hmrl_random = one_hot_encode(test_hmrl_random, 'utr', 50)\n",
    "test_hmrl_random = test_data(df=test_hmrl_random, model=hmrl_model, test_seq=seq_test_hmrl_random, obs_col='rl', output_col='pred')\n",
    "\n",
    "\n",
    "\n",
    "\n",
    "#Outliers\n",
    "\n",
    "#dict_dfs = {}\n",
    "#for x,f in [test_mrl_random, test_mrl_human, test_hmrl_random, test_hmrl_human],['fp', 'fn']:\n",
    "#    key_name = f + '_' + nameof(x)\n",
    "#    dict_dfs[key_name] = outliers(x, 'collect', f)\n",
    "\n",
    "#    x = outliers(x, 'remove', f)\n",
    "    \n",
    "        \n",
    "\n",
    "\n",
    "#FP\n",
    "fp_test_mrl_random = outliers(test_mrl_random, 'collect', 'fp')\n",
    "fp_test_mrl_human = outliers(test_mrl_human, 'collect', 'fp')\n",
    "fp_test_hmrl_random = outliers(test_hmrl_random, 'collect', 'fp')\n",
    "fp_test_hmrl_human = outliers(test_hmrl_human, 'collect', 'fp')\n",
    "\n",
    "#FN\n",
    "fn_test_mrl_random = outliers(test_mrl_random, 'collect', 'fn')\n",
    "fn_test_mrl_human = outliers(test_mrl_human, 'collect', 'fn')\n",
    "fn_test_hmrl_random = outliers(test_hmrl_random, 'collect', 'fn')\n",
    "fn_test_hmrl_human = outliers(test_hmrl_human, 'collect', 'fn')\n",
    "\n"
   ]
  },
  {
   "cell_type": "markdown",
   "metadata": {},
   "source": [
    "<font color=skyblue size=30> Meta-Attribution of 5'UTR Signals  </font>"
   ]
  },
  {
   "cell_type": "markdown",
   "metadata": {},
   "source": [
    "(MRL->Random)"
   ]
  },
  {
   "cell_type": "code",
   "execution_count": null,
   "metadata": {},
   "outputs": [
    {
     "name": "stdout",
     "output_type": "stream",
     "text": [
      "88\n"
     ]
    },
    {
     "data": {
      "image/png": "[encoded data removed]",
      "text/plain": [
       "<Figure size 1440x720 with 1 Axes>"
      ]
     },
     "metadata": {
      "needs_background": "light"
     },
     "output_type": "display_data"
    },
    {
     "name": "stdout",
     "output_type": "stream",
     "text": [
      "316\n"
     ]
    },
    {
     "data": {
      "image/png": "[encoded data removed]",
      "text/plain": [
       "<Figure size 1440x720 with 1 Axes>"
      ]
     },
     "metadata": {
      "needs_background": "light"
     },
     "output_type": "display_data"
    }
   ],
   "source": [
    "plot_meta(fp_test_mrl_random, mrl_model)\n",
    "plot_meta(fn_test_mrl_random, mrl_model)\n",
    "\n",
    "#plot_meta(test_random, mrl_model)\n",
    "#plot_meta(test_random, mrl_model, subset='highest_ten')\n",
    "#plot_meta(test_random, mrl_model, subset='lowest_ten')"
   ]
  },
  {
   "cell_type": "markdown",
   "metadata": {},
   "source": [
    "(MRL->Human)"
   ]
  },
  {
   "cell_type": "code",
   "execution_count": null,
   "metadata": {},
   "outputs": [
    {
     "name": "stdout",
     "output_type": "stream",
     "text": [
      "268\n"
     ]
    },
    {
     "data": {
      "image/png": "[encoded data removed]",
      "text/plain": [
       "<Figure size 1440x720 with 1 Axes>"
      ]
     },
     "metadata": {
      "needs_background": "light"
     },
     "output_type": "display_data"
    },
    {
     "name": "stdout",
     "output_type": "stream",
     "text": [
      "1\n"
     ]
    },
    {
     "data": {
      "image/png": "[encoded data removed]",
      "text/plain": [
       "<Figure size 1440x720 with 1 Axes>"
      ]
     },
     "metadata": {
      "needs_background": "light"
     },
     "output_type": "display_data"
    }
   ],
   "source": [
    "plot_meta(fp_test_mrl_human, mrl_model)\n",
    "plot_meta(fn_test_mrl_human, mrl_model)\n",
    "\n",
    "#plot_meta(test_human, mrl_model)\n",
    "#plot_meta(test_human, mrl_model, subset='highest_ten')\n",
    "#plot_meta(test_human, mrl_model, subset='lowest_ten')"
   ]
  },
  {
   "cell_type": "markdown",
   "metadata": {},
   "source": [
    "(hMRL->Random)"
   ]
  },
  {
   "cell_type": "code",
   "execution_count": null,
   "metadata": {},
   "outputs": [
    {
     "name": "stdout",
     "output_type": "stream",
     "text": [
      "538\n"
     ]
    },
    {
     "data": {
      "image/png": "[encoded data removed]",
      "text/plain": [
       "<Figure size 1440x720 with 1 Axes>"
      ]
     },
     "metadata": {
      "needs_background": "light"
     },
     "output_type": "display_data"
    },
    {
     "name": "stdout",
     "output_type": "stream",
     "text": [
      "2705\n"
     ]
    },
    {
     "data": {
      "image/png": "[encoded data removed]",
      "text/plain": [
       "<Figure size 1440x720 with 1 Axes>"
      ]
     },
     "metadata": {
      "needs_background": "light"
     },
     "output_type": "display_data"
    }
   ],
   "source": [
    "plot_meta(fp_test_hmrl_random, hmrl_model)\n",
    "plot_meta(fn_test_hmrl_random, hmrl_model)\n",
    "\n",
    "#plot_meta(test_random, hmrl_model)\n",
    "#plot_meta(test_random, hmrl_model, subset='highest_ten')\n",
    "#plot_meta(test_random, hmrl_model, subset='lowest_ten')"
   ]
  },
  {
   "cell_type": "markdown",
   "metadata": {},
   "source": [
    "(hMRL->Human)"
   ]
  },
  {
   "cell_type": "code",
   "execution_count": null,
   "metadata": {},
   "outputs": [
    {
     "name": "stdout",
     "output_type": "stream",
     "text": [
      "268\n"
     ]
    },
    {
     "data": {
      "image/png": "[encoded data removed]",
      "text/plain": [
       "<Figure size 1440x720 with 1 Axes>"
      ]
     },
     "metadata": {
      "needs_background": "light"
     },
     "output_type": "display_data"
    },
    {
     "name": "stdout",
     "output_type": "stream",
     "text": [
      "1\n"
     ]
    },
    {
     "data": {
      "image/png": "[encoded data removed]",
      "text/plain": [
       "<Figure size 1440x720 with 1 Axes>"
      ]
     },
     "metadata": {
      "needs_background": "light"
     },
     "output_type": "display_data"
    }
   ],
   "source": [
    "plot_meta(fp_test_hmrl_human, hmrl_model)\n",
    "plot_meta(fn_test_hmrl_human, hmrl_model)\n",
    "\n",
    "#plot_meta(test_human, hmrl_model)\n",
    "#plot_meta(test_human, hmrl_model, subset='highest_ten')\n",
    "#plot_meta(test_human, hmrl_model, subset='lowest_ten')"
   ]
  },
  {
   "cell_type": "code",
   "execution_count": null,
   "metadata": {},
   "outputs": [],
   "source": []
  }
 ],
 "metadata": {
  "interpreter": {
   "hash": "57bfa4aa8d2cf613342596a6d988858e43b151c27750d9d6d65cd918aed0d614"
  },
  "kernelspec": {
   "display_name": "Python 3.9.10 ('mlcis')",
   "language": "python",
   "name": "python3"
  },
  "language_info": {
   "codemirror_mode": {
    "name": "ipython",
    "version": 3
   },
   "file_extension": ".py",
   "mimetype": "text/x-python",
   "name": "python",
   "nbconvert_exporter": "python",
   "pygments_lexer": "ipython3",
   "version": "3.9.10"
  },
  "orig_nbformat": 4
 },
 "nbformat": 4,
 "nbformat_minor": 2
}
