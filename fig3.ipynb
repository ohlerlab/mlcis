{
 "cells": [
  {
   "cell_type": "code",
   "execution_count": 1,
   "metadata": {},
   "outputs": [],
   "source": [
    "#imports\n",
    "import pandas as pd\n",
    "import numpy as np\n",
    "import matplotlib.pyplot as plt\n",
    "import scipy.stats as stats\n",
    "import seaborn as sns\n",
    "from sklearn import preprocessing\n",
    "import random\n",
    "import keras\n",
    "from keras.preprocessing import sequence\n",
    "from keras.optimizers import RMSprop\n",
    "from keras.models import Sequential\n",
    "from keras.layers.core import Dense\n",
    "from keras.layers.core import Dropout\n",
    "from keras.layers.core import Activation\n",
    "from keras.layers.core import Flatten\n",
    "from keras.layers.convolutional import Conv1D\n",
    "\n",
    "import integrated_gradients as ig\n",
    "import my_utils\n",
    "from metaplot import Metaplot, one_hot_encode"
   ]
  },
  {
   "cell_type": "code",
   "execution_count": 2,
   "metadata": {},
   "outputs": [
    {
     "name": "stdout",
     "output_type": "stream",
     "text": [
      "There are  6014  UTRs left in the test set.\n",
      "There are  122927  UTRs left in the train set.\n"
     ]
    }
   ],
   "source": [
    "#import data\n",
    "df = pd.read_csv('/Users/frederickkorbel/Documents/projects/paper/data/seelig/Samples/GSM3130435_egfp_unmod_1.csv')\n",
    "df.sort_values('total_reads', inplace=True, ascending=False)\n",
    "df.reset_index(inplace=True, drop=True)\n",
    "df = df.iloc[:280000]\n",
    "\n",
    "# The training set has 260k UTRs and the test set has 20k UTRs.\n",
    "e_test = df.iloc[:20000]\n",
    "e_train = df.iloc[20000:]\n",
    "\n",
    "# Exclude 5utrs with uAUG\n",
    "e_test = e_test[e_test['utr'].apply(lambda x: 'ATG' not in x)]\n",
    "e_train = e_train[e_train['utr'].apply(lambda x: 'ATG' not in x)]\n",
    "print(\"There are \", len(e_test), \" UTRs left in the test set.\")\n",
    "print(\"There are \", len(e_train), \" UTRs left in the train set.\")\n",
    "\n",
    "\n",
    "def one_hot_encode(df, col='utr', seq_len=50):\n",
    "    nuc_d = {'a':[1,0,0,0],'c':[0,1,0,0],'g':[0,0,1,0],'t':[0,0,0,1], 'n':[0,0,0,0]}\n",
    "    vectors=np.empty([len(df),seq_len,4])\n",
    "    \n",
    "    for i,seq in enumerate(df[col].str[:seq_len]): \n",
    "        seq = seq.lower()\n",
    "        a = np.array([nuc_d[x] for x in seq])\n",
    "        vectors[i] = a\n",
    "    return vectors\n",
    "\n",
    "\n",
    "# One-hot encode both training and test UTRs\n",
    "seq_e_train = one_hot_encode(e_train,seq_len=50)\n",
    "seq_e_test = one_hot_encode(e_test, seq_len=50)\n",
    "\n",
    "# Scale the training mean ribosome load values\n",
    "e_train.loc[:,'scaled_rl'] = preprocessing.StandardScaler().fit_transform(e_train.loc[:,'rl'].values.reshape(-1,1))\n",
    "\n"
   ]
  },
  {
   "cell_type": "code",
   "execution_count": 3,
   "metadata": {},
   "outputs": [
    {
     "name": "stderr",
     "output_type": "stream",
     "text": [
      "2022-03-22 10:37:12.345473: I tensorflow/core/platform/cpu_feature_guard.cc:142] This TensorFlow binary is optimized with oneAPI Deep Neural Network Library (oneDNN) to use the following CPU instructions in performance-critical operations:  SSE4.1 SSE4.2 AVX AVX2 FMA\n",
      "To enable them in other operations, rebuild TensorFlow with the appropriate compiler flags.\n",
      "2022-03-22 10:37:12.743699: I tensorflow/compiler/mlir/mlir_graph_optimization_pass.cc:116] None of the MLIR optimization passes are enabled (registered 2)\n"
     ]
    },
    {
     "name": "stdout",
     "output_type": "stream",
     "text": [
      "r-squared =  0.4164254317556743\n"
     ]
    }
   ],
   "source": [
    "\n",
    "#function to plot meta under different conditions\n",
    "def plot_meta(data, model, subset=None):\n",
    "\n",
    "    if subset is None:\n",
    "        print(len(data))\n",
    "        data_seq = one_hot_encode(data, seq_len=50)\n",
    "        data_ig = ig.integrated_gradients(model, data_seq)\n",
    "        Metaplot(data_ig, colorbar = True)\n",
    "    \n",
    "    elif subset == 'lowest_ten':\n",
    "        data_lowest_ten = data[data['pred'] <= data['pred'].quantile(0.1)]\n",
    "        print(len(data_lowest_ten))\n",
    "        lowest_ten_seq = one_hot_encode(data_lowest_ten, seq_len=50)\n",
    "        lowest_ten_ig = ig.integrated_gradients(model, lowest_ten_seq)\n",
    "        Metaplot(lowest_ten_ig, colorbar = True)\n",
    "\n",
    "    elif subset == 'highest_ten':\n",
    "        data_highest_ten = data[data['pred'] >= data['pred'].quantile(0.9)]\n",
    "        print(len(data_highest_ten))\n",
    "        highest_ten_seq = one_hot_encode(data_highest_ten, seq_len=50)\n",
    "        highest_ten_ig = ig.integrated_gradients(model, highest_ten_seq)\n",
    "        Metaplot(highest_ten_ig, colorbar = True)\n",
    "        \n",
    "    else:\n",
    "        raise ValueError()\n",
    "\n",
    "\n",
    "#define model architecture and train on 5utrs (no uAUG) with modified functions from Sample et al.\n",
    "\n",
    "class LossHistory(keras.callbacks.Callback):\n",
    "    def on_train_begin(self, logs={}):\n",
    "        self.losses = []\n",
    "        self.val_losses = []\n",
    "\n",
    "\n",
    "\n",
    "def train_model(x, y, border_mode='same', inp_len=50, nodes=40, layers=3, filter_len=8, nbr_filters=120,\n",
    "                dropout1=0, dropout2=0, dropout3=0, nb_epoch=3):\n",
    "    ''' Build model archicture and fit.'''\n",
    "    model = Sequential()\n",
    "    if layers >= 1:\n",
    "        model.add(Conv1D(activation=\"relu\", input_shape=(inp_len, 4), padding=border_mode, filters=nbr_filters, kernel_size=filter_len))\n",
    "    if layers >= 2:\n",
    "        model.add(Conv1D(activation=\"relu\", input_shape=(inp_len, 1), padding=border_mode, filters=nbr_filters, kernel_size=filter_len))\n",
    "        model.add(Dropout(dropout1))\n",
    "    if layers >= 3:\n",
    "        model.add(Conv1D(activation=\"relu\", input_shape=(inp_len, 1), padding=border_mode, filters=nbr_filters, kernel_size=filter_len))\n",
    "        model.add(Dropout(dropout2))\n",
    "    model.add(Flatten())\n",
    "\n",
    "    model.add(Dense(nodes))\n",
    "    model.add(Activation('relu'))\n",
    "    model.add(Dropout(dropout3))\n",
    "    \n",
    "    model.add(Dense(1))\n",
    "    model.add(Activation('linear'))\n",
    "\n",
    "    #compile the model\n",
    "    adam = keras.optimizers.Adam(lr=0.001, beta_1=0.9, beta_2=0.999, epsilon=1e-08)\n",
    "    model.compile(loss='mean_squared_error', optimizer=adam)\n",
    "\n",
    "    model.fit(x, y, batch_size=128, epochs=nb_epoch, verbose=1)\n",
    "    return model\n",
    "\n",
    "\n",
    "def test_data(df, model, test_seq, obs_col, output_col='pred'):\n",
    "    '''Predict mean ribosome load using model and test set UTRs'''\n",
    "    \n",
    "    # Scale the test set mean ribosome load\n",
    "    scaler = preprocessing.StandardScaler()\n",
    "    scaler.fit(df[obs_col].values.reshape(-1,1))\n",
    "    \n",
    "    # Make predictions\n",
    "    predictions = model.predict(test_seq).reshape(-1,1)\n",
    "    \n",
    "    # Inverse scaled predicted mean ribosome load and return in a column labeled 'pred'\n",
    "    df.loc[:,output_col] = scaler.inverse_transform(predictions)\n",
    "    return df\n",
    "\n",
    "\n",
    "def one_hot_encode(df, col='utr', seq_len=50):\n",
    "    # Dictionary returning one-hot encoding of nucleotides. \n",
    "    nuc_d = {'a':[1,0,0,0],'c':[0,1,0,0],'g':[0,0,1,0],'t':[0,0,0,1], 'n':[0,0,0,0]}\n",
    "    \n",
    "    # Creat empty matrix.\n",
    "    vectors=np.empty([len(df),seq_len,4])\n",
    "    \n",
    "    # Iterate through UTRs and one-hot encode\n",
    "    for i,seq in enumerate(df[col].str[:seq_len]): \n",
    "        seq = seq.lower()\n",
    "        a = np.array([nuc_d[x] for x in seq])\n",
    "        vectors[i] = a\n",
    "    return vectors\n",
    "\n",
    "\n",
    "def r2(x,y):\n",
    "    slope, intercept, r_value, p_value, std_err = stats.linregress(x,y)\n",
    "    return r_value**2\n",
    "\n",
    "\n",
    "\n",
    "#model = train_model(seq_e_train, e_train['scaled_rl'], nb_epoch=3,border_mode='same',\n",
    "#                   inp_len=50, nodes=40, layers=3, nbr_filters=120, filter_len=8, dropout1=0,\n",
    "#                   dropout2=0,dropout3=0.2)\n",
    "\n",
    "model = keras.models.load_model('/Users/frederickkorbel/Documents/projects/paper/data/models/mrl_model_no_uorfs.hdf5')\n",
    "\n",
    "e_test = test_data(df=e_test, model=model, obs_col='rl',test_seq=seq_e_test)\n",
    "r = r2(e_test['rl'], e_test['pred'])\n",
    "print('r-squared = ', r)\n",
    "\n",
    "#model.save('/Users/frederickkorbel/Documents/projects/paper/data/models/mrl_model_no_uorfs.hdf5')\n"
   ]
  },
  {
   "cell_type": "markdown",
   "metadata": {},
   "source": [
    "<font color=lightblue size=20>Attribution MRL w/o uAUGs</font>"
   ]
  },
  {
   "cell_type": "code",
   "execution_count": 4,
   "metadata": {},
   "outputs": [
    {
     "name": "stdout",
     "output_type": "stream",
     "text": [
      "6014\n"
     ]
    },
    {
     "data": {
      "image/png": "[encoded data removed]",
      "text/plain": [
       "<Figure size 1440x720 with 2 Axes>"
      ]
     },
     "metadata": {
      "needs_background": "light"
     },
     "output_type": "display_data"
    },
    {
     "name": "stdout",
     "output_type": "stream",
     "text": [
      "602\n"
     ]
    },
    {
     "data": {
      "image/png": "[encoded data removed]",
      "text/plain": [
       "<Figure size 1440x720 with 2 Axes>"
      ]
     },
     "metadata": {
      "needs_background": "light"
     },
     "output_type": "display_data"
    },
    {
     "name": "stdout",
     "output_type": "stream",
     "text": [
      "602\n"
     ]
    },
    {
     "data": {
      "image/png": "[encoded data removed]",
      "text/plain": [
       "<Figure size 1440x720 with 2 Axes>"
      ]
     },
     "metadata": {
      "needs_background": "light"
     },
     "output_type": "display_data"
    }
   ],
   "source": [
    "plot_meta(e_test, model)\n",
    "plot_meta(e_test, model, subset='lowest_ten')\n",
    "plot_meta(e_test, model, subset='highest_ten')"
   ]
  },
  {
   "cell_type": "markdown",
   "metadata": {},
   "source": [
    "<font color=lightblue size=20>Attribution MRL w/ uAUGs</font>"
   ]
  },
  {
   "cell_type": "code",
   "execution_count": 5,
   "metadata": {},
   "outputs": [],
   "source": [
    "e_test = pd.read_csv('/Users/frederickkorbel/Documents/projects/paper/data/MRL_pred.csv')\n",
    "\n",
    "\n",
    "model = keras.models.load_model('/Users/frederickkorbel/Documents/projects/paper/data/models/main_MRL_model.hdf5')"
   ]
  },
  {
   "cell_type": "code",
   "execution_count": 6,
   "metadata": {},
   "outputs": [
    {
     "name": "stdout",
     "output_type": "stream",
     "text": [
      "20000\n"
     ]
    },
    {
     "data": {
      "image/png": "[encoded data removed]",
      "text/plain": [
       "<Figure size 1440x720 with 2 Axes>"
      ]
     },
     "metadata": {
      "needs_background": "light"
     },
     "output_type": "display_data"
    },
    {
     "name": "stdout",
     "output_type": "stream",
     "text": [
      "2000\n"
     ]
    },
    {
     "data": {
      "image/png": "[encoded data removed]",
      "text/plain": [
       "<Figure size 1440x720 with 2 Axes>"
      ]
     },
     "metadata": {
      "needs_background": "light"
     },
     "output_type": "display_data"
    },
    {
     "name": "stdout",
     "output_type": "stream",
     "text": [
      "2000\n"
     ]
    },
    {
     "data": {
      "image/png": "[encoded data removed]",
      "text/plain": [
       "<Figure size 1440x720 with 2 Axes>"
      ]
     },
     "metadata": {
      "needs_background": "light"
     },
     "output_type": "display_data"
    }
   ],
   "source": [
    "plot_meta(e_test, model)\n",
    "plot_meta(e_test, model, subset='lowest_ten')\n",
    "plot_meta(e_test, model, subset='highest_ten')"
   ]
  },
  {
   "cell_type": "markdown",
   "metadata": {},
   "source": [
    "<font color=lightblue size=20>Attribution hMRL w/ uAUGs</font>"
   ]
  },
  {
   "cell_type": "code",
   "execution_count": 7,
   "metadata": {},
   "outputs": [],
   "source": [
    "e_test = pd.read_csv('/Users/frederickkorbel/Documents/projects/paper/data/hMRL_human_50_test_pred.csv')\n",
    "\n",
    "model = keras.models.load_model('/Users/frederickkorbel/Documents/projects/paper/data/models/human_MRL_model.hdf5')"
   ]
  },
  {
   "cell_type": "code",
   "execution_count": 8,
   "metadata": {},
   "outputs": [
    {
     "name": "stdout",
     "output_type": "stream",
     "text": [
      "5000\n"
     ]
    },
    {
     "data": {
      "image/png": "[encoded data removed]",
      "text/plain": [
       "<Figure size 1440x720 with 2 Axes>"
      ]
     },
     "metadata": {
      "needs_background": "light"
     },
     "output_type": "display_data"
    },
    {
     "name": "stdout",
     "output_type": "stream",
     "text": [
      "500\n"
     ]
    },
    {
     "data": {
      "image/png": "[encoded data removed]",
      "text/plain": [
       "<Figure size 1440x720 with 2 Axes>"
      ]
     },
     "metadata": {
      "needs_background": "light"
     },
     "output_type": "display_data"
    },
    {
     "name": "stdout",
     "output_type": "stream",
     "text": [
      "500\n"
     ]
    },
    {
     "data": {
      "image/png": "[encoded data removed]",
      "text/plain": [
       "<Figure size 1440x720 with 2 Axes>"
      ]
     },
     "metadata": {
      "needs_background": "light"
     },
     "output_type": "display_data"
    }
   ],
   "source": [
    "plot_meta(e_test, model)\n",
    "plot_meta(e_test, model, subset='lowest_ten')\n",
    "plot_meta(e_test, model, subset='highest_ten')"
   ]
  },
  {
   "cell_type": "markdown",
   "metadata": {},
   "source": [
    "<font color=lightblue size=20>Attribution hMRL w/o uAUGs</font>"
   ]
  },
  {
   "cell_type": "code",
   "execution_count": 13,
   "metadata": {},
   "outputs": [
    {
     "name": "stdout",
     "output_type": "stream",
     "text": [
      "There are  3698  UTRs left in the test set.\n",
      "There are  14808  UTRs left in the train set.\n",
      "Epoch 1/7\n",
      "116/116 [==============================] - 22s 172ms/step - loss: 0.6041\n",
      "Epoch 2/7\n",
      "116/116 [==============================] - 19s 164ms/step - loss: 0.4135\n",
      "Epoch 3/7\n",
      "116/116 [==============================] - 22s 188ms/step - loss: 0.3754\n",
      "Epoch 4/7\n",
      "116/116 [==============================] - 20s 173ms/step - loss: 0.3398\n",
      "Epoch 5/7\n",
      "116/116 [==============================] - 18s 154ms/step - loss: 0.2883\n",
      "Epoch 6/7\n",
      "116/116 [==============================] - 19s 166ms/step - loss: 0.2535\n",
      "Epoch 7/7\n",
      "116/116 [==============================] - 19s 159ms/step - loss: 0.2154\n",
      "r-squared =  0.6566524054878488\n"
     ]
    }
   ],
   "source": [
    "e_test = pd.read_csv('/Users/frederickkorbel/Documents/projects/paper/data/hMRL_human_50_test_pred.csv')\n",
    "e_train = pd.read_csv('/Users/frederickkorbel/Documents/projects/paper/data/hMRL_human_50_train.csv')\n",
    "\n",
    "\n",
    "e_test = e_test[e_test['utr'].apply(lambda x: 'ATG' not in x)]\n",
    "e_train = e_train[e_train['utr'].apply(lambda x: 'ATG' not in x)]\n",
    "print(\"There are \", len(e_test), \" UTRs left in the test set.\")\n",
    "print(\"There are \", len(e_train), \" UTRs left in the train set.\")\n",
    "\n",
    "seq_e_train = one_hot_encode(e_train,seq_len=50)\n",
    "seq_e_test = one_hot_encode(e_test, seq_len=50)\n",
    "\n",
    "e_train.loc[:,'scaled_rl'] = preprocessing.StandardScaler().fit_transform(e_train.loc[:,'rl'].values.reshape(-1,1))\n",
    "\n",
    "hmrl_model = train_model(seq_e_train, e_train['scaled_rl'], nb_epoch=7,border_mode='same',\n",
    "                   inp_len=50, nodes=40, layers=3, nbr_filters=120, filter_len=8, dropout1=0,\n",
    "                   dropout2=0,dropout3=0.2)\n",
    "\n",
    "e_test = test_data(df=e_test, model=hmrl_model, obs_col='rl',test_seq=seq_e_test)\n",
    "r = r2(e_test['rl'], e_test['pred'])\n",
    "print('r-squared = ', r)"
   ]
  },
  {
   "cell_type": "code",
   "execution_count": 15,
   "metadata": {},
   "outputs": [
    {
     "name": "stdout",
     "output_type": "stream",
     "text": [
      "3698\n"
     ]
    },
    {
     "data": {
      "image/png": "[encoded data removed]",
      "text/plain": [
       "<Figure size 1440x720 with 2 Axes>"
      ]
     },
     "metadata": {
      "needs_background": "light"
     },
     "output_type": "display_data"
    },
    {
     "name": "stdout",
     "output_type": "stream",
     "text": [
      "370\n"
     ]
    },
    {
     "data": {
      "image/png": "[encoded data removed]",
      "text/plain": [
       "<Figure size 1440x720 with 2 Axes>"
      ]
     },
     "metadata": {
      "needs_background": "light"
     },
     "output_type": "display_data"
    },
    {
     "name": "stdout",
     "output_type": "stream",
     "text": [
      "370\n"
     ]
    },
    {
     "data": {
      "image/png": "[encoded data removed]",
      "text/plain": [
       "<Figure size 1440x720 with 2 Axes>"
      ]
     },
     "metadata": {
      "needs_background": "light"
     },
     "output_type": "display_data"
    }
   ],
   "source": [
    "plot_meta(e_test, hmrl_model)\n",
    "plot_meta(e_test, hmrl_model, subset='lowest_ten')\n",
    "plot_meta(e_test, hmrl_model, subset='highest_ten')"
   ]
  },
  {
   "cell_type": "code",
   "execution_count": null,
   "metadata": {},
   "outputs": [],
   "source": []
  }
 ],
 "metadata": {
  "interpreter": {
   "hash": "57bfa4aa8d2cf613342596a6d988858e43b151c27750d9d6d65cd918aed0d614"
  },
  "kernelspec": {
   "display_name": "Python 3.9.10 ('mlcis')",
   "language": "python",
   "name": "python3"
  },
  "language_info": {
   "codemirror_mode": {
    "name": "ipython",
    "version": 3
   },
   "file_extension": ".py",
   "mimetype": "text/x-python",
   "name": "python",
   "nbconvert_exporter": "python",
   "pygments_lexer": "ipython3",
   "version": "3.9.10"
  },
  "orig_nbformat": 4
 },
 "nbformat": 4,
 "nbformat_minor": 2
}
