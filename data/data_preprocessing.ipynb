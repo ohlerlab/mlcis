{
 "cells": [
  {
   "cell_type": "code",
   "execution_count": 1,
   "metadata": {},
   "outputs": [],
   "source": [
    "#import packages\n",
    "import pandas as pd"
   ]
  },
  {
   "cell_type": "markdown",
   "metadata": {},
   "source": [
    "We import the synthetic library, preprocess according to Sample et. al (2019) and save in this folder"
   ]
  },
  {
   "cell_type": "code",
   "execution_count": 3,
   "metadata": {},
   "outputs": [],
   "source": [
    "df = pd.read_csv('/Users/frederickkorbel/Documents/projects/paper/seelig/Samples/GSM3130435_egfp_unmod_1.csv', index_col=[0])\n",
    "df.sort_values('total_reads', inplace=True, ascending=False)\n",
    "df.reset_index(inplace=True, drop=True)\n",
    "df = df.iloc[:280000] #select reporters with most reads\n",
    "\n",
    "e_test = df.iloc[:20000]  #the 20k utr with most reads are the test set\n",
    "e_test.to_csv('/Users/frederickkorbel/Documents/projects/paper/mlcis/data/random_test.csv')\n",
    "\n",
    "e_train = df.iloc[20000:] #the other 260k utr are the training set\n",
    "e_train.to_csv('/Users/frederickkorbel/Documents/projects/paper/mlcis/data/random_train.csv.gz', compression='gzip')"
   ]
  },
  {
   "cell_type": "markdown",
   "metadata": {},
   "source": [
    "We import the human library, preprocess according to Sample et. al (2019) and save in this folder"
   ]
  },
  {
   "cell_type": "code",
   "execution_count": 13,
   "metadata": {},
   "outputs": [
    {
     "name": "stderr",
     "output_type": "stream",
     "text": [
      "/var/folders/6b/4m6tvsws1rvb767d463fsk7r0000gn/T/ipykernel_19784/1796287262.py:1: DtypeWarning: Columns (33,34,35,36,37) have mixed types. Specify dtype option on import or set low_memory=False.\n",
      "  df_2 = pd.read_csv('/Users/frederickkorbel/Documents/projects/paper/mlcis/data/seelig/Samples/GSM3130443_designed_library.csv')\n"
     ]
    }
   ],
   "source": [
    "df_2 = pd.read_csv('/Users/frederickkorbel/Documents/projects/paper/seelig/Samples/GSM3130443_designed_library.csv')\n",
    "del df_2['Unnamed: 0']\n",
    "\n",
    "human = df_2[(df_2['library'] == 'human_utrs') | (df_2['library'] == 'snv')]\n",
    "human = human.sort_values('total', ascending = False).reset_index(drop = True)\n",
    "sub = human.iloc[:25000] #select reporters with most reads\n",
    "\n",
    "test = sub.iloc[:5000] #5k with most reads are test set\n",
    "test.to_csv('/Users/frederickkorbel/Documents/projects/paper/mlcis/data/human_test.csv')\n",
    "\n",
    "train = sub.iloc[5000:] #other ones are training set\n",
    "train.to_csv('/Users/frederickkorbel/Documents/projects/paper/mlcis/data/human_train.csv')"
   ]
  },
  {
   "cell_type": "code",
   "execution_count": null,
   "metadata": {},
   "outputs": [],
   "source": []
  }
 ],
 "metadata": {
  "kernelspec": {
   "display_name": "Python 3.9.10 ('mlcis')",
   "language": "python",
   "name": "python3"
  },
  "language_info": {
   "codemirror_mode": {
    "name": "ipython",
    "version": 3
   },
   "file_extension": ".py",
   "mimetype": "text/x-python",
   "name": "python",
   "nbconvert_exporter": "python",
   "pygments_lexer": "ipython3",
   "version": "3.9.10"
  },
  "orig_nbformat": 4,
  "vscode": {
   "interpreter": {
    "hash": "57bfa4aa8d2cf613342596a6d988858e43b151c27750d9d6d65cd918aed0d614"
   }
  }
 },
 "nbformat": 4,
 "nbformat_minor": 2
}
