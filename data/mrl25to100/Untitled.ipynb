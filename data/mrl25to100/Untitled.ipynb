{
 "cells": [
  {
   "cell_type": "markdown",
   "id": "f79bc1a4-a853-49f1-b516-81f63996d8bc",
   "metadata": {},
   "source": [
    "### Optimize Fine-Tuning Scheme for OptMRL since it is overfit on 50nt Human Data"
   ]
  },
  {
   "cell_type": "code",
   "execution_count": null,
   "id": "c617007a-2978-4976-8c1a-a7f276750036",
   "metadata": {},
   "outputs": [],
   "source": []
  }
 ],
 "metadata": {
  "kernelspec": {
   "display_name": "Python 3 (ipykernel)",
   "language": "python",
   "name": "python3"
  },
  "language_info": {
   "codemirror_mode": {
    "name": "ipython",
    "version": 3
   },
   "file_extension": ".py",
   "mimetype": "text/x-python",
   "name": "python",
   "nbconvert_exporter": "python",
   "pygments_lexer": "ipython3",
   "version": "3.9.10"
  }
 },
 "nbformat": 4,
 "nbformat_minor": 5
}
