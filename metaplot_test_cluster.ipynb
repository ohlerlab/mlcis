{
 "cells": [
  {
   "cell_type": "code",
   "execution_count": null,
   "metadata": {},
   "outputs": [],
   "source": [
    "import numpy as np\n",
    "import pandas as pd\n",
    "import IntegratedGradients as ig\n",
    "from metaplot import Metaplot, one_hot_encode\n",
    "import model_utils as ut\n",
    "import tensorflow as tf\n",
    "\n",
    "\n",
    "#import model\n",
    "model = tf.keras.models.load_model('/home/fkorbel/manuscript/data/models/main_MRL_model.hdf5')\n",
    "\n",
    "#compute gradients\n",
    "igres = ig(model)\n",
    "\n",
    "#import data\n",
    "data = pd.read_csv('/home/fkorbel/manuscript/data/seelig/random_50_test.csv')\n",
    "\n",
    "#Count uORFs\n",
    "data = ut.analyze(data)\n",
    "\n",
    "#remove false positives and false negatives\n",
    "data = data[abs(data['pred'] - data['rl']) >= 2]\n",
    "\n",
    "#one-hot encode utr's\n",
    "seq = one_hot_encode(data)\n",
    "\n"
   ]
  },
  {
   "cell_type": "code",
   "execution_count": null,
   "metadata": {},
   "outputs": [],
   "source": [
    "#Compute gradients\n",
    "\n",
    "data_ex = np.array([igres.explain(seq[i] for i in data if data['orf_number'][i] == 1 and data['aug_number'][i] == 1)])\n",
    "\n",
    "high_ten = data[data['pred'] >= data['pred'].quantile(.9)] #gute lösung?\n",
    "high10 = np.array([igres.explain(seq[i] for i in high_ten if high_ten['orf_number'][i] == 1 and high_ten['aug_number'][i] == 1)])\n",
    "\n",
    "low_ten = data[data['pred'] <= data['pred'].quantile(.1)] #gute lösung?\n",
    "low10 = np.array([igres.explain(seq[i] for i in low_ten if low_ten['orf_number'][i] == 1 and high_ten['aug_number'][i] == 1)])\n"
   ]
  },
  {
   "cell_type": "code",
   "execution_count": null,
   "metadata": {},
   "outputs": [],
   "source": [
    "#Compute metaplots\n",
    "\n",
    "meta_all = Metaplot(data_ex)"
   ]
  },
  {
   "cell_type": "code",
   "execution_count": null,
   "metadata": {},
   "outputs": [],
   "source": [
    "meta_high_ten = Metaplot(high10)"
   ]
  },
  {
   "cell_type": "code",
   "execution_count": null,
   "metadata": {},
   "outputs": [],
   "source": [
    "meta_low_ten = Metaplot(low10)"
   ]
  }
 ],
 "metadata": {
  "language_info": {
   "name": "python"
  },
  "orig_nbformat": 4
 },
 "nbformat": 4,
 "nbformat_minor": 2
}
